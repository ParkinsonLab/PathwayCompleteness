{
 "cells": [
  {
   "cell_type": "code",
   "execution_count": 38,
   "metadata": {},
   "outputs": [],
   "source": [
    "import pandas as pd"
   ]
  },
  {
   "cell_type": "code",
   "execution_count": 39,
   "metadata": {},
   "outputs": [
    {
     "name": "stdout",
     "output_type": "stream",
     "text": [
      "Parent Directory: /gpfs/fs1/home/j/jparkin/wongkoji/PathwayCompleteness\n"
     ]
    }
   ],
   "source": [
    "import os\n",
    "\n",
    "# Get the current working directory\n",
    "current_dir = os.getcwd()\n",
    "\n",
    "# Get the parent directory\n",
    "parent_dir = os.path.dirname(current_dir)\n",
    "\n",
    "print(\"Parent Directory:\", parent_dir)"
   ]
  },
  {
   "cell_type": "code",
   "execution_count": 40,
   "metadata": {},
   "outputs": [],
   "source": [
    "# generate a pandas dataframe from our kraken2 report, delimited by tab ('\\t')\n",
    "k2_report_file = \"/scratch/j/jparkin/wongkoji/outputs/kraken2/pm_mtx.kreport2\"\n",
    "kraken_out_file = \"/scratch/j/jparkin/wongkoji/outputs/kraken2/pm_mtx_kraken.out\"\n",
    "fastq_file_path = \"/scratch/j/jparkin/wongkoji/data/pm_merged.fq\"\n",
    "\n",
    "report_df = pd.read_csv(filepath_or_buffer=k2_report_file, \n",
    "                        sep='\\t',\n",
    "                        names=[\"%_clade\", \"#_clade_frags\", \"#_taxon_frags\", \"class\", \"ncbi_taxon_id\", \"name\"])\n",
    "\n",
    "# Added a header explaining each column of the data.\n",
    "\n",
    "# %_clade: Percentage of fragments covered by the clade rooted at this taxon\n",
    "# #_clade_frags: Number of fragments covered by the clade rooted at this taxon\n",
    "# #_taxon_frags: Number of fragments assigned directly to this taxon\n",
    "# class: A rank code indicating (U)nclassified, (R)oot, (D)omain, (K)ingdom, (P)hylum, (C)lass, (O)rder, (F)amily, (G)enus, (S)pecies.\n",
    "# taxon_id: The Taxonomic ID number from NCBI\n",
    "# name: scientific name of taxon\n",
    "\n",
    "# print(report_df[\"class\"].unique())\n"
   ]
  },
  {
   "cell_type": "code",
   "execution_count": 41,
   "metadata": {},
   "outputs": [
    {
     "name": "stdout",
     "output_type": "stream",
     "text": [
      "622\n",
      "Pseudomonas chlororaphis subsp. piscium\n",
      "Pseudomonas chlororaphis subsp. aurantiaca\n",
      "Pseudomonas chlororaphis subsp. aureofaciens\n",
      "Pseudomonas syringae pv. actinidiae\n"
     ]
    },
    {
     "data": {
      "text/plain": [
       "False"
      ]
     },
     "execution_count": 41,
     "metadata": {},
     "output_type": "execute_result"
    }
   ],
   "source": [
    "print(len(report_df[report_df['class'].isin(['S', 'S1', 'S2', 'S3', 'S4'])]))\n",
    "# report_df['class']\n",
    "lst = ['Pseudomonas chlororaphis subsp. piscium', 'Pseudomonas chlororaphis subsp. aurantiaca', 'Pseudomonas chlororaphis subsp. aureofaciens', 'Pseudomonas syringae pv. actinidiae']\n",
    "for item in lst:\n",
    "    if item in report_df['name']:\n",
    "        print(\"Found\")\n",
    "    else:\n",
    "        print(item)\n",
    "'Pseudomonas sp. A2' in report_df['name']"
   ]
  },
  {
   "cell_type": "code",
   "execution_count": 42,
   "metadata": {},
   "outputs": [
    {
     "data": {
      "text/plain": [
       "array(['U', 'R', 'R1', 'D', 'P', 'C', 'O', 'F', 'G', 'G1', 'S', 'S1',\n",
       "       'S2', 'G2', 'S3', 'F1', 'O1', 'D1', 'D2', 'K', 'K1', 'K2', 'K3',\n",
       "       'P1', 'P2', 'P3', 'P4', 'P5', 'P6', 'P7', 'P8', 'P9', 'C1', 'C2',\n",
       "       'C3', 'C4', 'O2', 'O3', 'O4'], dtype=object)"
      ]
     },
     "execution_count": 42,
     "metadata": {},
     "output_type": "execute_result"
    }
   ],
   "source": [
    "report_df['class'].unique()"
   ]
  },
  {
   "cell_type": "code",
   "execution_count": 43,
   "metadata": {},
   "outputs": [
    {
     "name": "stdout",
     "output_type": "stream",
     "text": [
      "sum of clade_% fragments for classified species: 67.99\n",
      "number of species identified 21\n"
     ]
    },
    {
     "data": {
      "text/html": [
       "<div>\n",
       "<style scoped>\n",
       "    .dataframe tbody tr th:only-of-type {\n",
       "        vertical-align: middle;\n",
       "    }\n",
       "\n",
       "    .dataframe tbody tr th {\n",
       "        vertical-align: top;\n",
       "    }\n",
       "\n",
       "    .dataframe thead th {\n",
       "        text-align: right;\n",
       "    }\n",
       "</style>\n",
       "<table border=\"1\" class=\"dataframe\">\n",
       "  <thead>\n",
       "    <tr style=\"text-align: right;\">\n",
       "      <th></th>\n",
       "      <th>%_clade</th>\n",
       "      <th>#_clade_frags</th>\n",
       "      <th>#_taxon_frags</th>\n",
       "      <th>class</th>\n",
       "      <th>ncbi_taxon_id</th>\n",
       "      <th>name</th>\n",
       "    </tr>\n",
       "  </thead>\n",
       "  <tbody>\n",
       "    <tr>\n",
       "      <th>10</th>\n",
       "      <td>4.42</td>\n",
       "      <td>52890</td>\n",
       "      <td>52881</td>\n",
       "      <td>S</td>\n",
       "      <td>47883</td>\n",
       "      <td>Pseudomonas synxantha</td>\n",
       "    </tr>\n",
       "    <tr>\n",
       "      <th>12</th>\n",
       "      <td>4.16</td>\n",
       "      <td>49840</td>\n",
       "      <td>49840</td>\n",
       "      <td>S</td>\n",
       "      <td>76760</td>\n",
       "      <td>Pseudomonas rhodesiae</td>\n",
       "    </tr>\n",
       "    <tr>\n",
       "      <th>13</th>\n",
       "      <td>4.16</td>\n",
       "      <td>49774</td>\n",
       "      <td>49774</td>\n",
       "      <td>S</td>\n",
       "      <td>76758</td>\n",
       "      <td>Pseudomonas orientalis</td>\n",
       "    </tr>\n",
       "    <tr>\n",
       "      <th>14</th>\n",
       "      <td>3.53</td>\n",
       "      <td>42291</td>\n",
       "      <td>42253</td>\n",
       "      <td>S</td>\n",
       "      <td>380021</td>\n",
       "      <td>Pseudomonas protegens</td>\n",
       "    </tr>\n",
       "    <tr>\n",
       "      <th>16</th>\n",
       "      <td>3.10</td>\n",
       "      <td>37118</td>\n",
       "      <td>36090</td>\n",
       "      <td>S</td>\n",
       "      <td>294</td>\n",
       "      <td>Pseudomonas fluorescens</td>\n",
       "    </tr>\n",
       "    <tr>\n",
       "      <th>26</th>\n",
       "      <td>0.08</td>\n",
       "      <td>939</td>\n",
       "      <td>939</td>\n",
       "      <td>S</td>\n",
       "      <td>1114970</td>\n",
       "      <td>Pseudomonas ogarae</td>\n",
       "    </tr>\n",
       "    <tr>\n",
       "      <th>49</th>\n",
       "      <td>16.23</td>\n",
       "      <td>194296</td>\n",
       "      <td>168457</td>\n",
       "      <td>S</td>\n",
       "      <td>587753</td>\n",
       "      <td>Pseudomonas chlororaphis</td>\n",
       "    </tr>\n",
       "    <tr>\n",
       "      <th>60</th>\n",
       "      <td>8.29</td>\n",
       "      <td>99227</td>\n",
       "      <td>62886</td>\n",
       "      <td>S</td>\n",
       "      <td>317</td>\n",
       "      <td>Pseudomonas syringae</td>\n",
       "    </tr>\n",
       "    <tr>\n",
       "      <th>117</th>\n",
       "      <td>2.65</td>\n",
       "      <td>31682</td>\n",
       "      <td>31682</td>\n",
       "      <td>S</td>\n",
       "      <td>78327</td>\n",
       "      <td>Pseudomonas mosselii</td>\n",
       "    </tr>\n",
       "    <tr>\n",
       "      <th>118</th>\n",
       "      <td>2.53</td>\n",
       "      <td>30338</td>\n",
       "      <td>29940</td>\n",
       "      <td>S</td>\n",
       "      <td>303</td>\n",
       "      <td>Pseudomonas putida</td>\n",
       "    </tr>\n",
       "    <tr>\n",
       "      <th>133</th>\n",
       "      <td>2.50</td>\n",
       "      <td>29927</td>\n",
       "      <td>29925</td>\n",
       "      <td>S</td>\n",
       "      <td>76759</td>\n",
       "      <td>Pseudomonas monteilii</td>\n",
       "    </tr>\n",
       "    <tr>\n",
       "      <th>144</th>\n",
       "      <td>3.39</td>\n",
       "      <td>40608</td>\n",
       "      <td>40608</td>\n",
       "      <td>S</td>\n",
       "      <td>53408</td>\n",
       "      <td>Pseudomonas citronellolis</td>\n",
       "    </tr>\n",
       "    <tr>\n",
       "      <th>145</th>\n",
       "      <td>1.39</td>\n",
       "      <td>16665</td>\n",
       "      <td>16513</td>\n",
       "      <td>S</td>\n",
       "      <td>287</td>\n",
       "      <td>Pseudomonas aeruginosa</td>\n",
       "    </tr>\n",
       "    <tr>\n",
       "      <th>182</th>\n",
       "      <td>4.26</td>\n",
       "      <td>51026</td>\n",
       "      <td>51026</td>\n",
       "      <td>S</td>\n",
       "      <td>321846</td>\n",
       "      <td>Pseudomonas simiae</td>\n",
       "    </tr>\n",
       "    <tr>\n",
       "      <th>183</th>\n",
       "      <td>3.05</td>\n",
       "      <td>36473</td>\n",
       "      <td>36473</td>\n",
       "      <td>S</td>\n",
       "      <td>2842346</td>\n",
       "      <td>Pseudomonas siliginis</td>\n",
       "    </tr>\n",
       "    <tr>\n",
       "      <th>184</th>\n",
       "      <td>2.80</td>\n",
       "      <td>33506</td>\n",
       "      <td>33506</td>\n",
       "      <td>S</td>\n",
       "      <td>2565368</td>\n",
       "      <td>Pseudomonas atacamensis</td>\n",
       "    </tr>\n",
       "    <tr>\n",
       "      <th>186</th>\n",
       "      <td>0.13</td>\n",
       "      <td>1577</td>\n",
       "      <td>1577</td>\n",
       "      <td>S</td>\n",
       "      <td>107445</td>\n",
       "      <td>Pseudomonas sp. A2</td>\n",
       "    </tr>\n",
       "    <tr>\n",
       "      <th>187</th>\n",
       "      <td>0.06</td>\n",
       "      <td>762</td>\n",
       "      <td>762</td>\n",
       "      <td>S</td>\n",
       "      <td>2895471</td>\n",
       "      <td>Pseudomonas sp. B21-010</td>\n",
       "    </tr>\n",
       "    <tr>\n",
       "      <th>406</th>\n",
       "      <td>0.72</td>\n",
       "      <td>8630</td>\n",
       "      <td>8589</td>\n",
       "      <td>S</td>\n",
       "      <td>930166</td>\n",
       "      <td>Pseudomonas brassicacearum</td>\n",
       "    </tr>\n",
       "    <tr>\n",
       "      <th>409</th>\n",
       "      <td>0.45</td>\n",
       "      <td>5345</td>\n",
       "      <td>5345</td>\n",
       "      <td>S</td>\n",
       "      <td>2219225</td>\n",
       "      <td>Pseudomonas asiatica</td>\n",
       "    </tr>\n",
       "  </tbody>\n",
       "</table>\n",
       "</div>"
      ],
      "text/plain": [
       "     %_clade  #_clade_frags  #_taxon_frags class  ncbi_taxon_id  \\\n",
       "10      4.42          52890          52881     S          47883   \n",
       "12      4.16          49840          49840     S          76760   \n",
       "13      4.16          49774          49774     S          76758   \n",
       "14      3.53          42291          42253     S         380021   \n",
       "16      3.10          37118          36090     S            294   \n",
       "26      0.08            939            939     S        1114970   \n",
       "49     16.23         194296         168457     S         587753   \n",
       "60      8.29          99227          62886     S            317   \n",
       "117     2.65          31682          31682     S          78327   \n",
       "118     2.53          30338          29940     S            303   \n",
       "133     2.50          29927          29925     S          76759   \n",
       "144     3.39          40608          40608     S          53408   \n",
       "145     1.39          16665          16513     S            287   \n",
       "182     4.26          51026          51026     S         321846   \n",
       "183     3.05          36473          36473     S        2842346   \n",
       "184     2.80          33506          33506     S        2565368   \n",
       "186     0.13           1577           1577     S         107445   \n",
       "187     0.06            762            762     S        2895471   \n",
       "406     0.72           8630           8589     S         930166   \n",
       "409     0.45           5345           5345     S        2219225   \n",
       "\n",
       "                                            name  \n",
       "10                         Pseudomonas synxantha  \n",
       "12                         Pseudomonas rhodesiae  \n",
       "13                        Pseudomonas orientalis  \n",
       "14                         Pseudomonas protegens  \n",
       "16                       Pseudomonas fluorescens  \n",
       "26                            Pseudomonas ogarae  \n",
       "49                      Pseudomonas chlororaphis  \n",
       "60                          Pseudomonas syringae  \n",
       "117                         Pseudomonas mosselii  \n",
       "118                           Pseudomonas putida  \n",
       "133                        Pseudomonas monteilii  \n",
       "144                    Pseudomonas citronellolis  \n",
       "145                       Pseudomonas aeruginosa  \n",
       "182                           Pseudomonas simiae  \n",
       "183                        Pseudomonas siliginis  \n",
       "184                      Pseudomonas atacamensis  \n",
       "186                           Pseudomonas sp. A2  \n",
       "187                      Pseudomonas sp. B21-010  \n",
       "406                   Pseudomonas brassicacearum  \n",
       "409                         Pseudomonas asiatica  "
      ]
     },
     "execution_count": 43,
     "metadata": {},
     "output_type": "execute_result"
    }
   ],
   "source": [
    "# get only classified species who cover 0.05% of all fragments\n",
    "def filter_kraken2(class_name):\n",
    "    if class_name == \"S\":\n",
    "        return \"S\"\n",
    "    elif \"S\" in class_name:\n",
    "        return \"S\"\n",
    "    else:\n",
    "        return class_name\n",
    "# report_df = report_df[report_df['class'].isin([\"S\", \"S1\", \"S2\", \"S3\"])]\n",
    "report_df = report_df[report_df['class'].isin([\"S\"])]\n",
    "\n",
    "report_df = report_df[report_df['%_clade'] >= 0.05]\n",
    "\n",
    "print(\"sum of clade_% fragments for classified species:\", round(report_df[\"%_clade\"].sum(),2))\n",
    "print(\"number of species identified\", len(report_df))\n",
    "report_df.head(20)"
   ]
  },
  {
   "cell_type": "code",
   "execution_count": 44,
   "metadata": {},
   "outputs": [
    {
     "name": "stdout",
     "output_type": "stream",
     "text": [
      "number of clade fragments for classified species: 813991\n"
     ]
    }
   ],
   "source": [
    "print(\"number of clade fragments for classified species:\", round(report_df[\"#_clade_frags\"].sum(),2))"
   ]
  },
  {
   "cell_type": "code",
   "execution_count": 45,
   "metadata": {},
   "outputs": [
    {
     "data": {
      "text/plain": [
       "10                           Pseudomonas synxantha\n",
       "12                           Pseudomonas rhodesiae\n",
       "13                          Pseudomonas orientalis\n",
       "14                           Pseudomonas protegens\n",
       "16                         Pseudomonas fluorescens\n",
       "26                              Pseudomonas ogarae\n",
       "49                        Pseudomonas chlororaphis\n",
       "60                            Pseudomonas syringae\n",
       "117                           Pseudomonas mosselii\n",
       "118                             Pseudomonas putida\n",
       "133                          Pseudomonas monteilii\n",
       "144                      Pseudomonas citronellolis\n",
       "145                         Pseudomonas aeruginosa\n",
       "182                             Pseudomonas simiae\n",
       "183                          Pseudomonas siliginis\n",
       "184                        Pseudomonas atacamensis\n",
       "186                             Pseudomonas sp. A2\n",
       "187                        Pseudomonas sp. B21-010\n",
       "406                     Pseudomonas brassicacearum\n",
       "409                           Pseudomonas asiatica\n",
       "410                            Pseudomonas zarinae\n",
       "Name: name, dtype: object"
      ]
     },
     "execution_count": 45,
     "metadata": {},
     "output_type": "execute_result"
    }
   ],
   "source": [
    "report_df['name']"
   ]
  },
  {
   "cell_type": "code",
   "execution_count": 46,
   "metadata": {},
   "outputs": [],
   "source": [
    "#TODO: extract k-mer count information corresponding to data in stdout in kraken.out\n",
    "k2_output = pd.read_csv(filepath_or_buffer=kraken_out_file, \n",
    "                        sep='\\t',\n",
    "                        names=[\"is_classified\", \"seq_id\", \"taxon_id\", \"bp_length\", \"LCA_mapping\"])"
   ]
  },
  {
   "cell_type": "code",
   "execution_count": 47,
   "metadata": {},
   "outputs": [
    {
     "name": "stdout",
     "output_type": "stream",
     "text": [
      "num reads: 1197492\n"
     ]
    }
   ],
   "source": [
    "k2_output.head()\n",
    "print(\"num reads:\", len(k2_output))"
   ]
  },
  {
   "cell_type": "code",
   "execution_count": 48,
   "metadata": {},
   "outputs": [
    {
     "name": "stdout",
     "output_type": "stream",
     "text": [
      "num reads: 750143\n"
     ]
    },
    {
     "data": {
      "text/html": [
       "<div>\n",
       "<style scoped>\n",
       "    .dataframe tbody tr th:only-of-type {\n",
       "        vertical-align: middle;\n",
       "    }\n",
       "\n",
       "    .dataframe tbody tr th {\n",
       "        vertical-align: top;\n",
       "    }\n",
       "\n",
       "    .dataframe thead th {\n",
       "        text-align: right;\n",
       "    }\n",
       "</style>\n",
       "<table border=\"1\" class=\"dataframe\">\n",
       "  <thead>\n",
       "    <tr style=\"text-align: right;\">\n",
       "      <th></th>\n",
       "      <th>is_classified</th>\n",
       "      <th>seq_id</th>\n",
       "      <th>taxon_id</th>\n",
       "      <th>bp_length</th>\n",
       "      <th>LCA_mapping</th>\n",
       "    </tr>\n",
       "  </thead>\n",
       "  <tbody>\n",
       "    <tr>\n",
       "      <th>0</th>\n",
       "      <td>C</td>\n",
       "      <td>lcl|NZ_CP010896.1_cds_WP_010207718.1_1-2/1</td>\n",
       "      <td>321846</td>\n",
       "      <td>199</td>\n",
       "      <td>286:10 321846:10 286:1 321846:26 286:5 321846:...</td>\n",
       "    </tr>\n",
       "    <tr>\n",
       "      <th>1</th>\n",
       "      <td>C</td>\n",
       "      <td>lcl|NZ_CP010896.1_cds_WP_010207718.1_1-4/1</td>\n",
       "      <td>321846</td>\n",
       "      <td>201</td>\n",
       "      <td>321846:67 2:5 321846:20 286:1 321846:5 286:69</td>\n",
       "    </tr>\n",
       "    <tr>\n",
       "      <th>2</th>\n",
       "      <td>C</td>\n",
       "      <td>lcl|NZ_CP010896.1_cds_WP_010207719.1_2-4/1</td>\n",
       "      <td>321846</td>\n",
       "      <td>216</td>\n",
       "      <td>321846:6 1224:5 286:29 321846:5 286:9 321846:5...</td>\n",
       "    </tr>\n",
       "    <tr>\n",
       "      <th>3</th>\n",
       "      <td>C</td>\n",
       "      <td>lcl|NZ_CP010896.1_cds_WP_010207719.1_2-2/1</td>\n",
       "      <td>321846</td>\n",
       "      <td>207</td>\n",
       "      <td>321846:3 286:7 1236:1 135621:2 286:2 2:5 286:3...</td>\n",
       "    </tr>\n",
       "    <tr>\n",
       "      <th>4</th>\n",
       "      <td>C</td>\n",
       "      <td>lcl|NZ_CP010896.1_cds_WP_021491432.1_3-2/1</td>\n",
       "      <td>321846</td>\n",
       "      <td>187</td>\n",
       "      <td>286:39 321846:3 286:4 321846:5 286:9 321846:3 ...</td>\n",
       "    </tr>\n",
       "  </tbody>\n",
       "</table>\n",
       "</div>"
      ],
      "text/plain": [
       "  is_classified                                      seq_id  taxon_id  \\\n",
       "0             C  lcl|NZ_CP010896.1_cds_WP_010207718.1_1-2/1    321846   \n",
       "1             C  lcl|NZ_CP010896.1_cds_WP_010207718.1_1-4/1    321846   \n",
       "2             C  lcl|NZ_CP010896.1_cds_WP_010207719.1_2-4/1    321846   \n",
       "3             C  lcl|NZ_CP010896.1_cds_WP_010207719.1_2-2/1    321846   \n",
       "4             C  lcl|NZ_CP010896.1_cds_WP_021491432.1_3-2/1    321846   \n",
       "\n",
       "   bp_length                                        LCA_mapping  \n",
       "0        199  286:10 321846:10 286:1 321846:26 286:5 321846:...  \n",
       "1        201      321846:67 2:5 321846:20 286:1 321846:5 286:69  \n",
       "2        216  321846:6 1224:5 286:29 321846:5 286:9 321846:5...  \n",
       "3        207  321846:3 286:7 1236:1 135621:2 286:2 2:5 286:3...  \n",
       "4        187  286:39 321846:3 286:4 321846:5 286:9 321846:3 ...  "
      ]
     },
     "execution_count": 48,
     "metadata": {},
     "output_type": "execute_result"
    }
   ],
   "source": [
    "# Keep only reads that are in filtered classes in report_df\n",
    "k2_output_filt = k2_output[k2_output[\"taxon_id\"].isin(report_df['ncbi_taxon_id'])]\n",
    "k2_output_filt = k2_output_filt[k2_output_filt[\"taxon_id\"] != 0]\n",
    "print(\"num reads:\", len(k2_output_filt))\n",
    "k2_output_filt.head()"
   ]
  },
  {
   "cell_type": "code",
   "execution_count": 49,
   "metadata": {},
   "outputs": [
    {
     "data": {
      "text/plain": [
       "21"
      ]
     },
     "execution_count": 49,
     "metadata": {},
     "output_type": "execute_result"
    }
   ],
   "source": [
    "# And can create a map of taxon_id to seq_ids\n",
    "seq_by_taxon = k2_output_filt.groupby(\"taxon_id\")['seq_id'].apply(list).to_dict()\n",
    "# number of taxon ids in our dataset\n",
    "len(seq_by_taxon.keys())"
   ]
  },
  {
   "cell_type": "code",
   "execution_count": 50,
   "metadata": {},
   "outputs": [
    {
     "name": "stdout",
     "output_type": "stream",
     "text": [
      "Taxon ID: [287, 294, 303, 317, 47883, 53408, 76758, 76759, 76760, 78327, 107445, 321846, 380021, 587753, 930166, 1114970, 2219225, 2565368, 2745498, 2842346, 2895471]\n",
      "Taxon 321846 Sequence IDs: ['lcl|NZ_CP010896.1_cds_WP_010207718.1_1-2/1', 'lcl|NZ_CP010896.1_cds_WP_010207718.1_1-4/1', 'lcl|NZ_CP010896.1_cds_WP_010207719.1_2-4/1', 'lcl|NZ_CP010896.1_cds_WP_010207719.1_2-2/1', 'lcl|NZ_CP010896.1_cds_WP_021491432.1_3-2/1']\n",
      "# Sequences in taxon 321846: 51026\n"
     ]
    }
   ],
   "source": [
    "# List all the taxon ids\n",
    "print(\"Taxon ID:\", list(seq_by_taxon.keys()))\n",
    "\n",
    "# List the first five sequence ids by taxon 321846\n",
    "print(\"Taxon 321846 Sequence IDs:\", seq_by_taxon[321846][0:5])\n",
    "\n",
    "# Get the number of taxons with ID 321846 in the list\n",
    "print(\"# Sequences in taxon 321846:\", len(seq_by_taxon[321846]))"
   ]
  },
  {
   "cell_type": "code",
   "execution_count": 51,
   "metadata": {},
   "outputs": [
    {
     "name": "stdout",
     "output_type": "stream",
     "text": [
      "Assigned ID: 321846\n",
      "Mappings: ['286:10', '321846:10', '286:1', '321846:26', '286:5', '321846:4', '286:44', '135621:13', '286:24', '1236:3', '286:5', '1236:11', '321846:9']\n",
      "k-mer count for taxon 286: 10\n",
      "k-mer count for taxon 321846: 10\n",
      "k-mer count for taxon 286: 1\n",
      "k-mer count for taxon 321846: 26\n",
      "k-mer count for taxon 286: 5\n",
      "k-mer count for taxon 321846: 4\n",
      "k-mer count for taxon 286: 44\n",
      "k-mer count for taxon 135621: 13\n",
      "k-mer count for taxon 286: 24\n",
      "k-mer count for taxon 1236: 3\n",
      "k-mer count for taxon 286: 5\n",
      "k-mer count for taxon 1236: 11\n",
      "k-mer count for taxon 321846: 9\n",
      "Score: 0.296969696969697\n"
     ]
    }
   ],
   "source": [
    "# import regex to extract our k-mer count information\n",
    "import re\n",
    "\n",
    "# This block is for testing out how to get the kmer-counts in a sequence\n",
    "index = 0\n",
    "id = k2_output[\"taxon_id\"][index]\n",
    "print(\"Assigned ID:\", id)\n",
    "lca_mapping = k2_output[\"LCA_mapping\"][index]\n",
    "mappings = lca_mapping.split()\n",
    "print(\"Mappings:\", mappings)\n",
    "total = 0\n",
    "match_total = 0\n",
    "# loop over LCA mappings for this particular sequence\n",
    "for mapping in mappings:\n",
    "    query = fr'([0-9]*):([0-9]*)'\n",
    "    match = re.match(query, mapping) # use regex match to find query mapping\n",
    "    q_id = match.group(1)\n",
    "    kmer_count = int(match.group(2))\n",
    "    # we want to calculate the confidence score this assignment to the taxon_id\n",
    "    print(f\"k-mer count for taxon {q_id}:\", kmer_count)\n",
    "    if int(id) == int(q_id):\n",
    "        total += kmer_count\n",
    "        match_total += kmer_count\n",
    "    else:\n",
    "        total += kmer_count\n",
    "score = match_total/total\n",
    "print(\"Score:\", score)"
   ]
  },
  {
   "cell_type": "code",
   "execution_count": 52,
   "metadata": {},
   "outputs": [],
   "source": [
    "import re\n",
    "\n",
    "# function to calculate k2 assignment score\n",
    "def calculate_score(df, index: int) -> float:\n",
    "    \"\"\"\n",
    "    Calculates the confidence score of taxonomic assignment to a sequence by\n",
    "    dividing the number of k-mers mapped to a taxon by the total number of \n",
    "    k-mers from that sequence.\n",
    "\n",
    "    Args:\n",
    "        index (int): an index into the kraken2 output DataFrame, where each \n",
    "            index corresponds to a sequence\n",
    "    \"\"\"\n",
    "    tax_id = df[\"taxon_id\"][index]\n",
    "    seq_id = k2_output[\"seq_id\"][index]\n",
    "    print(\"Assigned ID:\", tax_id)\n",
    "    lca_mapping = df[\"LCA_mapping\"][index]\n",
    "    mappings = lca_mapping.split()\n",
    "    print(\"Mappings:\", mappings)\n",
    "    total = 0\n",
    "    match_total = 0\n",
    "    # loop over LCA mappings for this particular sequence\n",
    "    for mapping in mappings:\n",
    "        query = fr'([0-9]*):([0-9]*)'\n",
    "        match = re.match(query, mapping) # use regex match to find query mapping\n",
    "        q_id = match.group(1)\n",
    "        kmer_count = int(match.group(2))\n",
    "        # we want to calculate the confidence score this assignment to the taxon_id\n",
    "        if int(tax_id) == int(q_id):\n",
    "            total += kmer_count\n",
    "            match_total += kmer_count\n",
    "        else:\n",
    "            total += kmer_count\n",
    "    score = match_total/total\n",
    "    print(f\"Score for sequence {seq_id} assigned to taxon {tax_id}:\", score)\n",
    "    return score"
   ]
  },
  {
   "cell_type": "code",
   "execution_count": 53,
   "metadata": {},
   "outputs": [
    {
     "name": "stdout",
     "output_type": "stream",
     "text": [
      "Assigned ID: 321846\n",
      "Mappings: ['321846:67', '2:5', '321846:20', '286:1', '321846:5', '286:69']\n",
      "Score for sequence lcl|NZ_CP010896.1_cds_WP_010207718.1_1-4/1 assigned to taxon 321846: 0.5508982035928144\n",
      "Assigned ID: 321846\n",
      "Mappings: ['286:48', '321846:11', '286:1', '321846:17', '286:36', '135621:2', '286:4', '1224:5', '286:2', '2:5', '1224:2', '286:2', '1236:2', '286:2', '1224:3', '1236:5', '286:19']\n",
      "Score for sequence lcl|NZ_CP010896.1_cds_WP_021491428.1_9-2/1 assigned to taxon 321846: 0.1686746987951807\n"
     ]
    },
    {
     "data": {
      "text/plain": [
       "0.1686746987951807"
      ]
     },
     "execution_count": 53,
     "metadata": {},
     "output_type": "execute_result"
    }
   ],
   "source": [
    "# Now we can use this function to calculate the score from any index\n",
    "calculate_score(k2_output, 1)\n",
    "calculate_score(k2_output, 15)"
   ]
  },
  {
   "cell_type": "code",
   "execution_count": 54,
   "metadata": {},
   "outputs": [],
   "source": [
    "import pandas as pd\n",
    "from Bio import SeqIO\n",
    "\n",
    "def fasta_to_dataframe(fasta_file):\n",
    "    data = {\n",
    "        'seq_id': [],\n",
    "        'sequence': [],\n",
    "        'bp_length': []\n",
    "    }\n",
    "\n",
    "    for record in SeqIO.parse(fasta_file, \"fasta\"):\n",
    "        data['seq_id'].append(record.id)\n",
    "        data['sequence'].append(str(record.seq))\n",
    "        data['bp_length'].append(len(record.seq))\n",
    "\n",
    "    df = pd.DataFrame(data)\n",
    "    return df\n",
    "\n",
    "# fasta_file_path = \"/home/j/jparkin/wongkoji/data/merged_paired_mtx.fasta\"\n",
    "# fasta_df = fasta_to_dataframe(fasta_file_path)\n",
    "\n",
    "# Display the fasta df\n",
    "# print(fasta_df)"
   ]
  },
  {
   "cell_type": "code",
   "execution_count": 55,
   "metadata": {},
   "outputs": [
    {
     "data": {
      "text/html": [
       "<div>\n",
       "<style scoped>\n",
       "    .dataframe tbody tr th:only-of-type {\n",
       "        vertical-align: middle;\n",
       "    }\n",
       "\n",
       "    .dataframe tbody tr th {\n",
       "        vertical-align: top;\n",
       "    }\n",
       "\n",
       "    .dataframe thead th {\n",
       "        text-align: right;\n",
       "    }\n",
       "</style>\n",
       "<table border=\"1\" class=\"dataframe\">\n",
       "  <thead>\n",
       "    <tr style=\"text-align: right;\">\n",
       "      <th></th>\n",
       "      <th>seq_id</th>\n",
       "      <th>sequence</th>\n",
       "      <th>bp_length</th>\n",
       "    </tr>\n",
       "  </thead>\n",
       "  <tbody>\n",
       "    <tr>\n",
       "      <th>0</th>\n",
       "      <td>lcl|NZ_CP010896.1_cds_WP_010207718.1_1-2/1</td>\n",
       "      <td>GAGAATGAAGAGCCGTCCCGCGACAGCTTTGATCCGATGGCAGGCG...</td>\n",
       "      <td>199</td>\n",
       "    </tr>\n",
       "    <tr>\n",
       "      <th>1</th>\n",
       "      <td>lcl|NZ_CP010896.1_cds_WP_010207718.1_1-4/1</td>\n",
       "      <td>AGACGACTTGGAGGGCGCAGGAGCAGGAGACGGCGCACTGACAGCC...</td>\n",
       "      <td>201</td>\n",
       "    </tr>\n",
       "    <tr>\n",
       "      <th>2</th>\n",
       "      <td>lcl|NZ_CP010896.1_cds_WP_010207719.1_2-4/1</td>\n",
       "      <td>TGTGCTCTATGCGCGCCGATATCGGTCAGCCGGACCGTCACCAGGT...</td>\n",
       "      <td>216</td>\n",
       "    </tr>\n",
       "    <tr>\n",
       "      <th>3</th>\n",
       "      <td>lcl|NZ_CP010896.1_cds_WP_010207719.1_2-2/1</td>\n",
       "      <td>CTTGCCATCAACCAGCTTGGAGGTGAAGGTGAACTCGCCGGTGGTC...</td>\n",
       "      <td>207</td>\n",
       "    </tr>\n",
       "    <tr>\n",
       "      <th>4</th>\n",
       "      <td>lcl|NZ_CP010896.1_cds_WP_021491432.1_3-2/1</td>\n",
       "      <td>CCCGTCAATGCGAATCTGGAACTCTCCGCCGCGATCACGGGATATC...</td>\n",
       "      <td>187</td>\n",
       "    </tr>\n",
       "  </tbody>\n",
       "</table>\n",
       "</div>"
      ],
      "text/plain": [
       "                                       seq_id  \\\n",
       "0  lcl|NZ_CP010896.1_cds_WP_010207718.1_1-2/1   \n",
       "1  lcl|NZ_CP010896.1_cds_WP_010207718.1_1-4/1   \n",
       "2  lcl|NZ_CP010896.1_cds_WP_010207719.1_2-4/1   \n",
       "3  lcl|NZ_CP010896.1_cds_WP_010207719.1_2-2/1   \n",
       "4  lcl|NZ_CP010896.1_cds_WP_021491432.1_3-2/1   \n",
       "\n",
       "                                            sequence  bp_length  \n",
       "0  GAGAATGAAGAGCCGTCCCGCGACAGCTTTGATCCGATGGCAGGCG...        199  \n",
       "1  AGACGACTTGGAGGGCGCAGGAGCAGGAGACGGCGCACTGACAGCC...        201  \n",
       "2  TGTGCTCTATGCGCGCCGATATCGGTCAGCCGGACCGTCACCAGGT...        216  \n",
       "3  CTTGCCATCAACCAGCTTGGAGGTGAAGGTGAACTCGCCGGTGGTC...        207  \n",
       "4  CCCGTCAATGCGAATCTGGAACTCTCCGCCGCGATCACGGGATATC...        187  "
      ]
     },
     "execution_count": 55,
     "metadata": {},
     "output_type": "execute_result"
    }
   ],
   "source": [
    "import pandas as pd\n",
    "from Bio import SeqIO\n",
    "\n",
    "def fastq_to_dataframe(fastq_file):\n",
    "    data = {\n",
    "        'seq_id': [],\n",
    "        'sequence': [],\n",
    "        'bp_length': []\n",
    "    }\n",
    "\n",
    "    for record in SeqIO.parse(fastq_file, \"fastq\"):\n",
    "        data['seq_id'].append(record.id)\n",
    "        data['sequence'].append(str(record.seq))\n",
    "        data['bp_length'].append(len(record.seq))\n",
    "\n",
    "    df = pd.DataFrame(data)\n",
    "    return df\n",
    "\n",
    "fasta_df = fastq_to_dataframe(fastq_file_path)\n",
    "\n",
    "# Display the fasta df\n",
    "fasta_df.head()"
   ]
  },
  {
   "cell_type": "code",
   "execution_count": 56,
   "metadata": {},
   "outputs": [
    {
     "data": {
      "text/plain": [
       "0             lcl|NZ_CP010896.1_cds_WP_010207718.1_1-2/1\n",
       "1             lcl|NZ_CP010896.1_cds_WP_010207718.1_1-4/1\n",
       "2             lcl|NZ_CP010896.1_cds_WP_010207719.1_2-4/1\n",
       "3             lcl|NZ_CP010896.1_cds_WP_010207719.1_2-2/1\n",
       "4             lcl|NZ_CP010896.1_cds_WP_021491432.1_3-2/1\n",
       "                               ...                      \n",
       "1197487    lcl|NZ_CP115258.1_cds_WP_128447624.1_5908-2/1\n",
       "1197488    lcl|NZ_CP115258.1_cds_WP_023089992.1_5909-4/1\n",
       "1197489    lcl|NZ_CP115258.1_cds_WP_023089992.1_5909-2/1\n",
       "1197490    lcl|NZ_CP115258.1_cds_WP_022581007.1_5910-4/1\n",
       "1197491    lcl|NZ_CP115258.1_cds_WP_022581007.1_5910-2/1\n",
       "Name: seq_id, Length: 1197492, dtype: object"
      ]
     },
     "execution_count": 56,
     "metadata": {},
     "output_type": "execute_result"
    }
   ],
   "source": [
    "fasta_df[\"seq_id\"]"
   ]
  },
  {
   "cell_type": "code",
   "execution_count": 57,
   "metadata": {},
   "outputs": [],
   "source": [
    "a = seq_by_taxon[321846]\n",
    "sequences_taxon_321846 = fasta_df[fasta_df[\"seq_id\"].isin(a)]\n"
   ]
  },
  {
   "cell_type": "code",
   "execution_count": 58,
   "metadata": {},
   "outputs": [
    {
     "name": "stdout",
     "output_type": "stream",
     "text": [
      "                                       seq_id  \\\n",
      "0  lcl|NZ_CP010896.1_cds_WP_010207718.1_1-2/1   \n",
      "1  lcl|NZ_CP010896.1_cds_WP_010207718.1_1-4/1   \n",
      "2  lcl|NZ_CP010896.1_cds_WP_010207719.1_2-4/1   \n",
      "3  lcl|NZ_CP010896.1_cds_WP_010207719.1_2-2/1   \n",
      "4  lcl|NZ_CP010896.1_cds_WP_021491432.1_3-2/1   \n",
      "\n",
      "                                            sequence  bp_length  \n",
      "0  GAGAATGAAGAGCCGTCCCGCGACAGCTTTGATCCGATGGCAGGCG...        199  \n",
      "1  AGACGACTTGGAGGGCGCAGGAGCAGGAGACGGCGCACTGACAGCC...        201  \n",
      "2  TGTGCTCTATGCGCGCCGATATCGGTCAGCCGGACCGTCACCAGGT...        216  \n",
      "3  CTTGCCATCAACCAGCTTGGAGGTGAAGGTGAACTCGCCGGTGGTC...        207  \n",
      "4  CCCGTCAATGCGAATCTGGAACTCTCCGCCGCGATCACGGGATATC...        187  \n"
     ]
    }
   ],
   "source": [
    "print(sequences_taxon_321846[0:5])"
   ]
  },
  {
   "cell_type": "code",
   "execution_count": 59,
   "metadata": {},
   "outputs": [
    {
     "name": "stdout",
     "output_type": "stream",
     "text": [
      "There are 51026 sequences binned in taxon 321846\n"
     ]
    }
   ],
   "source": [
    "print(f\"There are {len(sequences_taxon_321846)} sequences binned in taxon 321846\")"
   ]
  },
  {
   "cell_type": "code",
   "execution_count": 60,
   "metadata": {},
   "outputs": [],
   "source": [
    "# id_to_seq_map = {}\n",
    "# for tax_id in list(seq_by_taxon.keys()):\n",
    "#     print(tax_id)\n",
    "#     seq_ids = seq_by_taxon[tax_id]\n",
    "#     id_to_seq_map[tax_id] = fasta_df[fasta_df[\"seq_id\"].isin(seq_ids)]\n",
    "\n",
    "# need to find a more efficient way"
   ]
  },
  {
   "cell_type": "code",
   "execution_count": 61,
   "metadata": {},
   "outputs": [],
   "source": [
    "fasta_df = fasta_df[fasta_df[\"seq_id\"].isin(k2_output_filt[\"seq_id\"])]\n",
    "merged_df = pd.merge(fasta_df, k2_output[['seq_id', 'taxon_id', \"LCA_mapping\"]], on='seq_id', how='left')"
   ]
  },
  {
   "cell_type": "code",
   "execution_count": 62,
   "metadata": {},
   "outputs": [
    {
     "name": "stdout",
     "output_type": "stream",
     "text": [
      "number of taxons: 21\n",
      "number of reads: 750143\n"
     ]
    }
   ],
   "source": [
    "merged_df.dropna(inplace=True)\n",
    "# Remove unclassified (taxon 0) reads\n",
    "merged_df = merged_df[merged_df[\"taxon_id\"] != 0]\n",
    "print(\"number of taxons:\", len(merged_df['taxon_id'].unique()))\n",
    "print(\"number of reads:\", len(merged_df))"
   ]
  },
  {
   "cell_type": "code",
   "execution_count": 63,
   "metadata": {},
   "outputs": [
    {
     "data": {
      "text/plain": [
       "0          321846\n",
       "1          321846\n",
       "2          321846\n",
       "3          321846\n",
       "4          321846\n",
       "            ...  \n",
       "1197487       287\n",
       "1197488       287\n",
       "1197489       287\n",
       "1197490       287\n",
       "1197491       287\n",
       "Name: taxon_id, Length: 750143, dtype: int64"
      ]
     },
     "execution_count": 63,
     "metadata": {},
     "output_type": "execute_result"
    }
   ],
   "source": [
    "k2_output_filt[\"taxon_id\"]"
   ]
  },
  {
   "cell_type": "code",
   "execution_count": 64,
   "metadata": {},
   "outputs": [],
   "source": [
    "# Check for discrepancies\n",
    "# discrepancies = merged_df[merged_df['taxon_id'] != pd.Series(k2_output_filt['taxon_id'])]\n",
    "\n",
    "# # If there are no discrepancies, discrepancies dataframe will be empty\n",
    "# if discrepancies.empty:\n",
    "#     print(\"All taxon_ids were added correctly.\")\n",
    "# else:\n",
    "#     print(\"Discrepancies found:\")\n",
    "#     print(discrepancies)"
   ]
  },
  {
   "cell_type": "code",
   "execution_count": 65,
   "metadata": {},
   "outputs": [],
   "source": [
    "# Now that we have a DataFrame containing the sequence_ids, sequences, and taxon_ids, we can perform EC analysis with DeepEC\n",
    "# First, let's create a fasta file containing all the seq_ids and sequences corresponding to a taxon\n",
    "\n",
    "# Example taxon_id to filter\n",
    "target_taxon_id = 321846\n",
    "\n",
    "# Filter rows in merged_df based on the target_taxon_id\n",
    "filtered_df = merged_df[merged_df['taxon_id'] == target_taxon_id]\n",
    "\n",
    "# Extract seq_ids and sequences\n",
    "seq_ids = filtered_df['seq_id'].tolist()\n",
    "sequences = filtered_df['sequence'].tolist()\n",
    "\n",
    "# Writing to a FASTA file\n",
    "fasta_file = '/home/j/jparkin/wongkoji/data/taxon_321846_reads.fasta'\n",
    "\n",
    "with open(fasta_file, 'w') as fasta_file:\n",
    "    for seq_id, sequence in zip(seq_ids, sequences):\n",
    "        fasta_file.write(f\">{seq_id}\\n{sequence}\\n\")"
   ]
  },
  {
   "cell_type": "code",
   "execution_count": 66,
   "metadata": {},
   "outputs": [
    {
     "data": {
      "text/plain": [
       "array([ 321846, 1114970,     294,   47883,   76760,     317,   53408,\n",
       "       2895471,  930166,  587753,  380021, 2745498,     303,     287,\n",
       "         76758, 2842346,   78327,   76759, 2565368,  107445, 2219225])"
      ]
     },
     "execution_count": 66,
     "metadata": {},
     "output_type": "execute_result"
    }
   ],
   "source": [
    "merged_df[\"taxon_id\"].unique()"
   ]
  },
  {
   "cell_type": "code",
   "execution_count": 67,
   "metadata": {},
   "outputs": [],
   "source": [
    "# Now that we have a DataFrame containing the sequence_ids, sequences, and taxon_ids, we can perform EC analysis with DeepEC\n",
    "# First, let's create a fasta file containing all the seq_ids and sequences corresponding to a taxon\n",
    "\n",
    "all_taxa = merged_df[\"taxon_id\"].unique()\n",
    "# Example taxon_id to filter\n",
    "target_taxon_id = 321846\n",
    "\n",
    "# Filter rows in merged_df based on the target_taxon_id\n",
    "filtered_df = merged_df[merged_df['taxon_id'] == target_taxon_id]\n",
    "\n",
    "# Extract seq_ids and sequences\n",
    "seq_ids = filtered_df['seq_id'].tolist()\n",
    "sequences = filtered_df['sequence'].tolist()\n",
    "\n",
    "# Writing to a FASTA file\n",
    "fasta_file = '/home/j/jparkin/wongkoji/data/taxon_321846_reads.fasta'\n",
    "\n",
    "with open(fasta_file, 'w') as fasta_file:\n",
    "    for seq_id, sequence in zip(seq_ids, sequences):\n",
    "        fasta_file.write(f\">{seq_id}\\n{sequence}\\n\")"
   ]
  },
  {
   "cell_type": "code",
   "execution_count": 68,
   "metadata": {},
   "outputs": [],
   "source": [
    "from Bio import SeqIO\n",
    "import pandas as pd\n",
    "\n",
    "# Step 1: Read FASTQ file and create DataFrame\n",
    "def fastq_to_df(fastq_file):\n",
    "    records = SeqIO.parse(fastq_file, \"fastq\")\n",
    "    data = [(record.id, str(record.seq), record.letter_annotations[\"phred_quality\"]) for record in records]\n",
    "    df = pd.DataFrame(data, columns=[\"Sequence_ID\", \"Sequence\", \"Quality_Scores\"])\n",
    "    return df\n",
    "\n",
    "# Step 2: Filter DataFrame based on taxon sequence IDs\n",
    "def filter_sequences(df, taxon_sequence_ids):\n",
    "    filtered_df = df[df['Sequence_ID'].isin(taxon_sequence_ids)]\n",
    "    return filtered_df\n",
    "\n",
    "# Step 3: Write filtered sequences to a new FASTQ file\n",
    "def write_filtered_fastq(filtered_df, output_file):\n",
    "    with open(output_file, \"w\") as f:\n",
    "        for index, row in filtered_df.iterrows():\n",
    "            f.write(f\"@{row['Sequence_ID']}\\n\")\n",
    "            f.write(f\"{row['Sequence']}\\n+\\n{''.join(map(chr, pd.Series(row['Quality_Scores']) + 33))}\\n\")\n",
    "\n",
    "# # Example usage\n",
    "taxon = target_taxon_id\n",
    "# fastq_file = fastq_file_path\n",
    "# output_file = f\"/home/j/jparkin/wongkoji/data/{taxon}.fastq\"\n",
    "# # Filter rows in merged_df based on the target_taxon_id\n",
    "# filtered_df = merged_df[merged_df['taxon_id'] == taxon]\n",
    "# taxon_sequence_ids = filtered_df['seq_id'] # Example list of sequence IDs for a specific taxon\n",
    "\n",
    "# # Step 1: Read FASTQ file and create DataFrame\n",
    "# df = fastq_to_df(fastq_file)\n",
    "\n",
    "# # Step 2: Filter DataFrame based on taxon sequence IDs\n",
    "# filtered_df = filter_sequences(df, taxon_sequence_ids)\n",
    "\n",
    "# # Step 3: Write filtered sequences to a new FASTQ file\n",
    "# write_filtered_fastq(filtered_df, output_file)\n"
   ]
  },
  {
   "cell_type": "code",
   "execution_count": 69,
   "metadata": {},
   "outputs": [
    {
     "name": "stderr",
     "output_type": "stream",
     "text": [
      "/scratch/j/jparkin/wongkoji/miniconda3/envs/testenv/lib/python3.12/site-packages/Bio/Seq.py:2880: BiopythonWarning: Partial codon, len(sequence) not a multiple of three. Explicitly trim the sequence or add trailing N before translation. This may become an error in future.\n",
      "  warnings.warn(\n"
     ]
    }
   ],
   "source": [
    "from Bio import SeqIO\n",
    "from Bio.Seq import Seq\n",
    "from Bio.SeqRecord import SeqRecord\n",
    "\n",
    "def translate_without_internal_stops(seq):\n",
    "    stop_present = False\n",
    "    translated_seq = seq.translate()\n",
    "    if '*' in translated_seq:\n",
    "        return None\n",
    "    return str(translated_seq)\n",
    "\n",
    "def main(input_file, output_file):\n",
    "    valid_records = []\n",
    "    with open(input_file, 'r') as f:\n",
    "        records = SeqIO.parse(f, 'fasta')\n",
    "        for record in records:\n",
    "            translated_seq = translate_without_internal_stops(record.seq)\n",
    "            if translated_seq:\n",
    "                protein_record = SeqRecord(Seq(translated_seq), id=record.id, description=\"\")\n",
    "                valid_records.append(protein_record)\n",
    "\n",
    "    with open(output_file, 'w') as f:\n",
    "        SeqIO.write(valid_records, f, 'fasta')\n",
    "\n",
    "input_file = f'/home/j/jparkin/wongkoji/data/taxon_{taxon}_reads.fasta'\n",
    "output_file = f'/home/j/jparkin/wongkoji/data/taxon_{taxon}_reads_translated.fasta'\n",
    "main(input_file, output_file)"
   ]
  }
 ],
 "metadata": {
  "kernelspec": {
   "display_name": "base",
   "language": "python",
   "name": "python3"
  },
  "language_info": {
   "codemirror_mode": {
    "name": "ipython",
    "version": 3
   },
   "file_extension": ".py",
   "mimetype": "text/x-python",
   "name": "python",
   "nbconvert_exporter": "python",
   "pygments_lexer": "ipython3",
   "version": "3.12.3"
  }
 },
 "nbformat": 4,
 "nbformat_minor": 2
}
