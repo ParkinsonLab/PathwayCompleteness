{
 "cells": [
  {
   "cell_type": "code",
   "execution_count": 46,
   "metadata": {},
   "outputs": [],
   "source": [
    "import pandas as pd"
   ]
  },
  {
   "cell_type": "code",
   "execution_count": 47,
   "metadata": {},
   "outputs": [
    {
     "name": "stdout",
     "output_type": "stream",
     "text": [
      "Parent Directory: /gpfs/fs1/home/j/jparkin/wongkoji/PathwayCompleteness\n"
     ]
    }
   ],
   "source": [
    "import os\n",
    "\n",
    "# Get the current working directory\n",
    "current_dir = os.getcwd()\n",
    "\n",
    "# Get the parent directory\n",
    "parent_dir = os.path.dirname(current_dir)\n",
    "\n",
    "print(\"Parent Directory:\", parent_dir)"
   ]
  },
  {
   "cell_type": "code",
   "execution_count": 102,
   "metadata": {},
   "outputs": [],
   "source": [
    "# generate a pandas dataframe from our kraken2 report, delimited by tab ('\\t')\n",
    "k2_report_file = \"/scratch/j/jparkin/wongkoji/outputs/kraken2/pm_mtx.kreport2\"\n",
    "kraken_out_file = \"/scratch/j/jparkin/wongkoji/outputs/kraken2/pm_mtx_kraken.out\"\n",
    "fastq_file_path = \"/scratch/j/jparkin/wongkoji/data/pm_merged.fq\"\n",
    "\n",
    "report_df = pd.read_csv(filepath_or_buffer=k2_report_file, \n",
    "                        sep='\\t',\n",
    "                        names=[\"%_clade\", \"#_clade_frags\", \"#_taxon_frags\", \"class\", \"ncbi_taxon_id\", \"name\"])\n",
    "\n",
    "# Added a header explaining each column of the data.\n",
    "\n",
    "# %_clade: Percentage of fragments covered by the clade rooted at this taxon\n",
    "# #_clade_frags: Number of fragments covered by the clade rooted at this taxon\n",
    "# #_taxon_frags: Number of fragments assigned directly to this taxon\n",
    "# class: A rank code indicating (U)nclassified, (R)oot, (D)omain, (K)ingdom, (P)hylum, (C)lass, (O)rder, (F)amily, (G)enus, (S)pecies.\n",
    "# taxon_id: The Taxonomic ID number from NCBI\n",
    "# name: scientific name of taxon\n",
    "\n",
    "# print(report_df[\"class\"].unique())\n"
   ]
  },
  {
   "cell_type": "code",
   "execution_count": 104,
   "metadata": {},
   "outputs": [
    {
     "name": "stdout",
     "output_type": "stream",
     "text": [
      "622\n",
      "Pseudomonas chlororaphis subsp. piscium\n",
      "Pseudomonas chlororaphis subsp. aurantiaca\n",
      "Pseudomonas chlororaphis subsp. aureofaciens\n",
      "Pseudomonas syringae pv. actinidiae\n"
     ]
    },
    {
     "data": {
      "text/plain": [
       "False"
      ]
     },
     "execution_count": 104,
     "metadata": {},
     "output_type": "execute_result"
    }
   ],
   "source": [
    "print(len(report_df[report_df['class'].isin(['S', 'S1', 'S2', 'S3', 'S4'])]))\n",
    "# report_df['class']\n",
    "lst = ['Pseudomonas chlororaphis subsp. piscium', 'Pseudomonas chlororaphis subsp. aurantiaca', 'Pseudomonas chlororaphis subsp. aureofaciens', 'Pseudomonas syringae pv. actinidiae']\n",
    "for item in lst:\n",
    "    if item in report_df['name']:\n",
    "        print(\"Found\")\n",
    "    else:\n",
    "        print(item)\n",
    "'Pseudomonas sp. A2' in report_df['name']"
   ]
  },
  {
   "cell_type": "code",
   "execution_count": null,
   "metadata": {},
   "outputs": [],
   "source": [
    "report_df['class'].unique()"
   ]
  },
  {
   "cell_type": "code",
   "execution_count": 50,
   "metadata": {},
   "outputs": [
    {
     "name": "stdout",
     "output_type": "stream",
     "text": [
      "sum of clade_% fragments for classified species: 67.99\n",
      "number of species identified 21\n"
     ]
    },
    {
     "data": {
      "text/html": [
       "<div>\n",
       "<style scoped>\n",
       "    .dataframe tbody tr th:only-of-type {\n",
       "        vertical-align: middle;\n",
       "    }\n",
       "\n",
       "    .dataframe tbody tr th {\n",
       "        vertical-align: top;\n",
       "    }\n",
       "\n",
       "    .dataframe thead th {\n",
       "        text-align: right;\n",
       "    }\n",
       "</style>\n",
       "<table border=\"1\" class=\"dataframe\">\n",
       "  <thead>\n",
       "    <tr style=\"text-align: right;\">\n",
       "      <th></th>\n",
       "      <th>%_clade</th>\n",
       "      <th>#_clade_frags</th>\n",
       "      <th>#_taxon_frags</th>\n",
       "      <th>class</th>\n",
       "      <th>ncbi_taxon_id</th>\n",
       "      <th>name</th>\n",
       "    </tr>\n",
       "  </thead>\n",
       "  <tbody>\n",
       "    <tr>\n",
       "      <th>10</th>\n",
       "      <td>4.42</td>\n",
       "      <td>52890</td>\n",
       "      <td>52881</td>\n",
       "      <td>S</td>\n",
       "      <td>47883</td>\n",
       "      <td>Pseudomonas synxantha</td>\n",
       "    </tr>\n",
       "    <tr>\n",
       "      <th>12</th>\n",
       "      <td>4.16</td>\n",
       "      <td>49840</td>\n",
       "      <td>49840</td>\n",
       "      <td>S</td>\n",
       "      <td>76760</td>\n",
       "      <td>Pseudomonas rhodesiae</td>\n",
       "    </tr>\n",
       "    <tr>\n",
       "      <th>13</th>\n",
       "      <td>4.16</td>\n",
       "      <td>49774</td>\n",
       "      <td>49774</td>\n",
       "      <td>S</td>\n",
       "      <td>76758</td>\n",
       "      <td>Pseudomonas orientalis</td>\n",
       "    </tr>\n",
       "    <tr>\n",
       "      <th>14</th>\n",
       "      <td>3.53</td>\n",
       "      <td>42291</td>\n",
       "      <td>42253</td>\n",
       "      <td>S</td>\n",
       "      <td>380021</td>\n",
       "      <td>Pseudomonas protegens</td>\n",
       "    </tr>\n",
       "    <tr>\n",
       "      <th>16</th>\n",
       "      <td>3.10</td>\n",
       "      <td>37118</td>\n",
       "      <td>36090</td>\n",
       "      <td>S</td>\n",
       "      <td>294</td>\n",
       "      <td>Pseudomonas fluorescens</td>\n",
       "    </tr>\n",
       "    <tr>\n",
       "      <th>26</th>\n",
       "      <td>0.08</td>\n",
       "      <td>939</td>\n",
       "      <td>939</td>\n",
       "      <td>S</td>\n",
       "      <td>1114970</td>\n",
       "      <td>Pseudomonas ogarae</td>\n",
       "    </tr>\n",
       "    <tr>\n",
       "      <th>49</th>\n",
       "      <td>16.23</td>\n",
       "      <td>194296</td>\n",
       "      <td>168457</td>\n",
       "      <td>S</td>\n",
       "      <td>587753</td>\n",
       "      <td>Pseudomonas chlororaphis</td>\n",
       "    </tr>\n",
       "    <tr>\n",
       "      <th>60</th>\n",
       "      <td>8.29</td>\n",
       "      <td>99227</td>\n",
       "      <td>62886</td>\n",
       "      <td>S</td>\n",
       "      <td>317</td>\n",
       "      <td>Pseudomonas syringae</td>\n",
       "    </tr>\n",
       "    <tr>\n",
       "      <th>117</th>\n",
       "      <td>2.65</td>\n",
       "      <td>31682</td>\n",
       "      <td>31682</td>\n",
       "      <td>S</td>\n",
       "      <td>78327</td>\n",
       "      <td>Pseudomonas mosselii</td>\n",
       "    </tr>\n",
       "    <tr>\n",
       "      <th>118</th>\n",
       "      <td>2.53</td>\n",
       "      <td>30338</td>\n",
       "      <td>29940</td>\n",
       "      <td>S</td>\n",
       "      <td>303</td>\n",
       "      <td>Pseudomonas putida</td>\n",
       "    </tr>\n",
       "    <tr>\n",
       "      <th>133</th>\n",
       "      <td>2.50</td>\n",
       "      <td>29927</td>\n",
       "      <td>29925</td>\n",
       "      <td>S</td>\n",
       "      <td>76759</td>\n",
       "      <td>Pseudomonas monteilii</td>\n",
       "    </tr>\n",
       "    <tr>\n",
       "      <th>144</th>\n",
       "      <td>3.39</td>\n",
       "      <td>40608</td>\n",
       "      <td>40608</td>\n",
       "      <td>S</td>\n",
       "      <td>53408</td>\n",
       "      <td>Pseudomonas citronellolis</td>\n",
       "    </tr>\n",
       "    <tr>\n",
       "      <th>145</th>\n",
       "      <td>1.39</td>\n",
       "      <td>16665</td>\n",
       "      <td>16513</td>\n",
       "      <td>S</td>\n",
       "      <td>287</td>\n",
       "      <td>Pseudomonas aeruginosa</td>\n",
       "    </tr>\n",
       "    <tr>\n",
       "      <th>182</th>\n",
       "      <td>4.26</td>\n",
       "      <td>51026</td>\n",
       "      <td>51026</td>\n",
       "      <td>S</td>\n",
       "      <td>321846</td>\n",
       "      <td>Pseudomonas simiae</td>\n",
       "    </tr>\n",
       "    <tr>\n",
       "      <th>183</th>\n",
       "      <td>3.05</td>\n",
       "      <td>36473</td>\n",
       "      <td>36473</td>\n",
       "      <td>S</td>\n",
       "      <td>2842346</td>\n",
       "      <td>Pseudomonas siliginis</td>\n",
       "    </tr>\n",
       "    <tr>\n",
       "      <th>184</th>\n",
       "      <td>2.80</td>\n",
       "      <td>33506</td>\n",
       "      <td>33506</td>\n",
       "      <td>S</td>\n",
       "      <td>2565368</td>\n",
       "      <td>Pseudomonas atacamensis</td>\n",
       "    </tr>\n",
       "    <tr>\n",
       "      <th>186</th>\n",
       "      <td>0.13</td>\n",
       "      <td>1577</td>\n",
       "      <td>1577</td>\n",
       "      <td>S</td>\n",
       "      <td>107445</td>\n",
       "      <td>Pseudomonas sp. A2</td>\n",
       "    </tr>\n",
       "    <tr>\n",
       "      <th>187</th>\n",
       "      <td>0.06</td>\n",
       "      <td>762</td>\n",
       "      <td>762</td>\n",
       "      <td>S</td>\n",
       "      <td>2895471</td>\n",
       "      <td>Pseudomonas sp. B21-010</td>\n",
       "    </tr>\n",
       "    <tr>\n",
       "      <th>406</th>\n",
       "      <td>0.72</td>\n",
       "      <td>8630</td>\n",
       "      <td>8589</td>\n",
       "      <td>S</td>\n",
       "      <td>930166</td>\n",
       "      <td>Pseudomonas brassicacearum</td>\n",
       "    </tr>\n",
       "    <tr>\n",
       "      <th>409</th>\n",
       "      <td>0.45</td>\n",
       "      <td>5345</td>\n",
       "      <td>5345</td>\n",
       "      <td>S</td>\n",
       "      <td>2219225</td>\n",
       "      <td>Pseudomonas asiatica</td>\n",
       "    </tr>\n",
       "  </tbody>\n",
       "</table>\n",
       "</div>"
      ],
      "text/plain": [
       "     %_clade  #_clade_frags  #_taxon_frags class  ncbi_taxon_id  \\\n",
       "10      4.42          52890          52881     S          47883   \n",
       "12      4.16          49840          49840     S          76760   \n",
       "13      4.16          49774          49774     S          76758   \n",
       "14      3.53          42291          42253     S         380021   \n",
       "16      3.10          37118          36090     S            294   \n",
       "26      0.08            939            939     S        1114970   \n",
       "49     16.23         194296         168457     S         587753   \n",
       "60      8.29          99227          62886     S            317   \n",
       "117     2.65          31682          31682     S          78327   \n",
       "118     2.53          30338          29940     S            303   \n",
       "133     2.50          29927          29925     S          76759   \n",
       "144     3.39          40608          40608     S          53408   \n",
       "145     1.39          16665          16513     S            287   \n",
       "182     4.26          51026          51026     S         321846   \n",
       "183     3.05          36473          36473     S        2842346   \n",
       "184     2.80          33506          33506     S        2565368   \n",
       "186     0.13           1577           1577     S         107445   \n",
       "187     0.06            762            762     S        2895471   \n",
       "406     0.72           8630           8589     S         930166   \n",
       "409     0.45           5345           5345     S        2219225   \n",
       "\n",
       "                                            name  \n",
       "10                         Pseudomonas synxantha  \n",
       "12                         Pseudomonas rhodesiae  \n",
       "13                        Pseudomonas orientalis  \n",
       "14                         Pseudomonas protegens  \n",
       "16                       Pseudomonas fluorescens  \n",
       "26                            Pseudomonas ogarae  \n",
       "49                      Pseudomonas chlororaphis  \n",
       "60                          Pseudomonas syringae  \n",
       "117                         Pseudomonas mosselii  \n",
       "118                           Pseudomonas putida  \n",
       "133                        Pseudomonas monteilii  \n",
       "144                    Pseudomonas citronellolis  \n",
       "145                       Pseudomonas aeruginosa  \n",
       "182                           Pseudomonas simiae  \n",
       "183                        Pseudomonas siliginis  \n",
       "184                      Pseudomonas atacamensis  \n",
       "186                           Pseudomonas sp. A2  \n",
       "187                      Pseudomonas sp. B21-010  \n",
       "406                   Pseudomonas brassicacearum  \n",
       "409                         Pseudomonas asiatica  "
      ]
     },
     "execution_count": 50,
     "metadata": {},
     "output_type": "execute_result"
    }
   ],
   "source": [
    "# get only classified species who cover 0.05% of all fragments\n",
    "def filter_kraken2(class_name):\n",
    "    if class_name == \"S\":\n",
    "        return \"S\"\n",
    "    elif \"S\" in class_name:\n",
    "        return \"S\"\n",
    "    else:\n",
    "        return class_name\n",
    "# report_df = report_df[report_df['class'].isin([\"S\", \"S1\", \"S2\", \"S3\"])]\n",
    "report_df = report_df[report_df['class'].isin([\"S\"])]\n",
    "\n",
    "report_df = report_df[report_df['%_clade'] >= 0.05]\n",
    "\n",
    "print(\"sum of clade_% fragments for classified species:\", round(report_df[\"%_clade\"].sum(),2))\n",
    "print(\"number of species identified\", len(report_df))\n",
    "report_df.head(20)"
   ]
  },
  {
   "cell_type": "code",
   "execution_count": 91,
   "metadata": {},
   "outputs": [
    {
     "data": {
      "text/plain": [
       "10                           Pseudomonas synxantha\n",
       "12                           Pseudomonas rhodesiae\n",
       "13                          Pseudomonas orientalis\n",
       "14                           Pseudomonas protegens\n",
       "16                         Pseudomonas fluorescens\n",
       "26                              Pseudomonas ogarae\n",
       "49                        Pseudomonas chlororaphis\n",
       "60                            Pseudomonas syringae\n",
       "117                           Pseudomonas mosselii\n",
       "118                             Pseudomonas putida\n",
       "133                          Pseudomonas monteilii\n",
       "144                      Pseudomonas citronellolis\n",
       "145                         Pseudomonas aeruginosa\n",
       "182                             Pseudomonas simiae\n",
       "183                          Pseudomonas siliginis\n",
       "184                        Pseudomonas atacamensis\n",
       "186                             Pseudomonas sp. A2\n",
       "187                        Pseudomonas sp. B21-010\n",
       "406                     Pseudomonas brassicacearum\n",
       "409                           Pseudomonas asiatica\n",
       "410                            Pseudomonas zarinae\n",
       "Name: name, dtype: object"
      ]
     },
     "execution_count": 91,
     "metadata": {},
     "output_type": "execute_result"
    }
   ],
   "source": [
    "report_df['name']"
   ]
  },
  {
   "cell_type": "code",
   "execution_count": 51,
   "metadata": {},
   "outputs": [],
   "source": [
    "#TODO: extract k-mer count information corresponding to data in stdout in kraken.out\n",
    "k2_output = pd.read_csv(filepath_or_buffer=kraken_out_file, \n",
    "                        sep='\\t',\n",
    "                        names=[\"is_classified\", \"seq_id\", \"taxon_id\", \"bp_length\", \"LCA_mapping\"])"
   ]
  },
  {
   "cell_type": "code",
   "execution_count": 52,
   "metadata": {},
   "outputs": [
    {
     "name": "stdout",
     "output_type": "stream",
     "text": [
      "num reads: 1197492\n"
     ]
    }
   ],
   "source": [
    "k2_output.head()\n",
    "print(\"num reads:\", len(k2_output))"
   ]
  },
  {
   "cell_type": "code",
   "execution_count": 53,
   "metadata": {},
   "outputs": [
    {
     "name": "stdout",
     "output_type": "stream",
     "text": [
      "num reads: 750143\n"
     ]
    },
    {
     "data": {
      "text/html": [
       "<div>\n",
       "<style scoped>\n",
       "    .dataframe tbody tr th:only-of-type {\n",
       "        vertical-align: middle;\n",
       "    }\n",
       "\n",
       "    .dataframe tbody tr th {\n",
       "        vertical-align: top;\n",
       "    }\n",
       "\n",
       "    .dataframe thead th {\n",
       "        text-align: right;\n",
       "    }\n",
       "</style>\n",
       "<table border=\"1\" class=\"dataframe\">\n",
       "  <thead>\n",
       "    <tr style=\"text-align: right;\">\n",
       "      <th></th>\n",
       "      <th>is_classified</th>\n",
       "      <th>seq_id</th>\n",
       "      <th>taxon_id</th>\n",
       "      <th>bp_length</th>\n",
       "      <th>LCA_mapping</th>\n",
       "    </tr>\n",
       "  </thead>\n",
       "  <tbody>\n",
       "    <tr>\n",
       "      <th>0</th>\n",
       "      <td>C</td>\n",
       "      <td>lcl|NZ_CP010896.1_cds_WP_010207718.1_1-2/1</td>\n",
       "      <td>321846</td>\n",
       "      <td>199</td>\n",
       "      <td>286:10 321846:10 286:1 321846:26 286:5 321846:...</td>\n",
       "    </tr>\n",
       "    <tr>\n",
       "      <th>1</th>\n",
       "      <td>C</td>\n",
       "      <td>lcl|NZ_CP010896.1_cds_WP_010207718.1_1-4/1</td>\n",
       "      <td>321846</td>\n",
       "      <td>201</td>\n",
       "      <td>321846:67 2:5 321846:20 286:1 321846:5 286:69</td>\n",
       "    </tr>\n",
       "    <tr>\n",
       "      <th>2</th>\n",
       "      <td>C</td>\n",
       "      <td>lcl|NZ_CP010896.1_cds_WP_010207719.1_2-4/1</td>\n",
       "      <td>321846</td>\n",
       "      <td>216</td>\n",
       "      <td>321846:6 1224:5 286:29 321846:5 286:9 321846:5...</td>\n",
       "    </tr>\n",
       "    <tr>\n",
       "      <th>3</th>\n",
       "      <td>C</td>\n",
       "      <td>lcl|NZ_CP010896.1_cds_WP_010207719.1_2-2/1</td>\n",
       "      <td>321846</td>\n",
       "      <td>207</td>\n",
       "      <td>321846:3 286:7 1236:1 135621:2 286:2 2:5 286:3...</td>\n",
       "    </tr>\n",
       "    <tr>\n",
       "      <th>4</th>\n",
       "      <td>C</td>\n",
       "      <td>lcl|NZ_CP010896.1_cds_WP_021491432.1_3-2/1</td>\n",
       "      <td>321846</td>\n",
       "      <td>187</td>\n",
       "      <td>286:39 321846:3 286:4 321846:5 286:9 321846:3 ...</td>\n",
       "    </tr>\n",
       "  </tbody>\n",
       "</table>\n",
       "</div>"
      ],
      "text/plain": [
       "  is_classified                                      seq_id  taxon_id  \\\n",
       "0             C  lcl|NZ_CP010896.1_cds_WP_010207718.1_1-2/1    321846   \n",
       "1             C  lcl|NZ_CP010896.1_cds_WP_010207718.1_1-4/1    321846   \n",
       "2             C  lcl|NZ_CP010896.1_cds_WP_010207719.1_2-4/1    321846   \n",
       "3             C  lcl|NZ_CP010896.1_cds_WP_010207719.1_2-2/1    321846   \n",
       "4             C  lcl|NZ_CP010896.1_cds_WP_021491432.1_3-2/1    321846   \n",
       "\n",
       "   bp_length                                        LCA_mapping  \n",
       "0        199  286:10 321846:10 286:1 321846:26 286:5 321846:...  \n",
       "1        201      321846:67 2:5 321846:20 286:1 321846:5 286:69  \n",
       "2        216  321846:6 1224:5 286:29 321846:5 286:9 321846:5...  \n",
       "3        207  321846:3 286:7 1236:1 135621:2 286:2 2:5 286:3...  \n",
       "4        187  286:39 321846:3 286:4 321846:5 286:9 321846:3 ...  "
      ]
     },
     "execution_count": 53,
     "metadata": {},
     "output_type": "execute_result"
    }
   ],
   "source": [
    "# Keep only reads that are in filtered classes in report_df\n",
    "k2_output_filt = k2_output[k2_output[\"taxon_id\"].isin(report_df['ncbi_taxon_id'])]\n",
    "k2_output_filt = k2_output_filt[k2_output_filt[\"taxon_id\"] != 0]\n",
    "print(\"num reads:\", len(k2_output_filt))\n",
    "k2_output_filt.head()"
   ]
  },
  {
   "cell_type": "code",
   "execution_count": 54,
   "metadata": {},
   "outputs": [
    {
     "data": {
      "text/plain": [
       "21"
      ]
     },
     "execution_count": 54,
     "metadata": {},
     "output_type": "execute_result"
    }
   ],
   "source": [
    "# And can create a map of taxon_id to seq_ids\n",
    "seq_by_taxon = k2_output_filt.groupby(\"taxon_id\")['seq_id'].apply(list).to_dict()\n",
    "# number of taxon ids in our dataset\n",
    "len(seq_by_taxon.keys())"
   ]
  },
  {
   "cell_type": "code",
   "execution_count": 55,
   "metadata": {},
   "outputs": [
    {
     "name": "stdout",
     "output_type": "stream",
     "text": [
      "Taxon ID: [287, 294, 303, 317, 47883, 53408, 76758, 76759, 76760, 78327, 107445, 321846, 380021, 587753, 930166, 1114970, 2219225, 2565368, 2745498, 2842346, 2895471]\n",
      "Taxon 321846 Sequence IDs: ['lcl|NZ_CP010896.1_cds_WP_010207718.1_1-2/1', 'lcl|NZ_CP010896.1_cds_WP_010207718.1_1-4/1', 'lcl|NZ_CP010896.1_cds_WP_010207719.1_2-4/1', 'lcl|NZ_CP010896.1_cds_WP_010207719.1_2-2/1', 'lcl|NZ_CP010896.1_cds_WP_021491432.1_3-2/1']\n",
      "# Sequences in taxon 321846: 51026\n"
     ]
    }
   ],
   "source": [
    "# List all the taxon ids\n",
    "print(\"Taxon ID:\", list(seq_by_taxon.keys()))\n",
    "\n",
    "# List the first five sequence ids by taxon 321846\n",
    "print(\"Taxon 321846 Sequence IDs:\", seq_by_taxon[321846][0:5])\n",
    "\n",
    "# Get the number of taxons with ID 321846 in the list\n",
    "print(\"# Sequences in taxon 321846:\", len(seq_by_taxon[321846]))"
   ]
  },
  {
   "cell_type": "code",
   "execution_count": 56,
   "metadata": {},
   "outputs": [],
   "source": [
    "# # import regex to extract our k-mer count information\n",
    "# import re\n",
    "\n",
    "# # This block is for testing out how to get the kmer-counts in a sequence\n",
    "# index = 0\n",
    "# id = k2_output[\"taxon_id\"][index]\n",
    "# print(\"Assigned ID:\", id)\n",
    "# lca_mapping = k2_output[\"LCA_mapping\"][index]\n",
    "# mappings = lca_mapping.split()\n",
    "# print(\"Mappings:\", mappings)\n",
    "# total = 0\n",
    "# match_total = 0\n",
    "# # loop over LCA mappings for this particular sequence\n",
    "# for mapping in mappings:\n",
    "#     query = fr'([0-9]*):([0-9]*)'\n",
    "#     match = re.match(query, mapping) # use regex match to find query mapping\n",
    "#     q_id = match.group(1)\n",
    "#     kmer_count = int(match.group(2))\n",
    "#     # we want to calculate the confidence score this assignment to the taxon_id\n",
    "#     print(f\"k-mer count for taxon {q_id}:\", kmer_count)\n",
    "#     if int(id) == int(q_id):\n",
    "#         total += kmer_count\n",
    "#         match_total += kmer_count\n",
    "#     else:\n",
    "#         total += kmer_count\n",
    "# score = match_total/total\n",
    "# print(\"Score:\", score)"
   ]
  },
  {
   "cell_type": "code",
   "execution_count": 57,
   "metadata": {},
   "outputs": [],
   "source": [
    "import re\n",
    "\n",
    "# function to calculate k2 assignment score\n",
    "def calculate_score(df, index: int) -> float:\n",
    "    \"\"\"\n",
    "    Calculates the confidence score of taxonomic assignment to a sequence by\n",
    "    dividing the number of k-mers mapped to a taxon by the total number of \n",
    "    k-mers from that sequence.\n",
    "\n",
    "    Args:\n",
    "        index (int): an index into the kraken2 output DataFrame, where each \n",
    "            index corresponds to a sequence\n",
    "    \"\"\"\n",
    "    tax_id = df[\"taxon_id\"][index]\n",
    "    seq_id = k2_output[\"seq_id\"][index]\n",
    "    print(\"Assigned ID:\", tax_id)\n",
    "    lca_mapping = df[\"LCA_mapping\"][index]\n",
    "    mappings = lca_mapping.split()\n",
    "    print(\"Mappings:\", mappings)\n",
    "    total = 0\n",
    "    match_total = 0\n",
    "    # loop over LCA mappings for this particular sequence\n",
    "    for mapping in mappings:\n",
    "        query = fr'([0-9]*):([0-9]*)'\n",
    "        match = re.match(query, mapping) # use regex match to find query mapping\n",
    "        q_id = match.group(1)\n",
    "        kmer_count = int(match.group(2))\n",
    "        # we want to calculate the confidence score this assignment to the taxon_id\n",
    "        if int(tax_id) == int(q_id):\n",
    "            total += kmer_count\n",
    "            match_total += kmer_count\n",
    "        else:\n",
    "            total += kmer_count\n",
    "    score = match_total/total\n",
    "    print(f\"Score for sequence {seq_id} assigned to taxon {tax_id}:\", score)\n",
    "    return score"
   ]
  },
  {
   "cell_type": "code",
   "execution_count": 58,
   "metadata": {},
   "outputs": [
    {
     "name": "stdout",
     "output_type": "stream",
     "text": [
      "Assigned ID: 321846\n",
      "Mappings: ['321846:67', '2:5', '321846:20', '286:1', '321846:5', '286:69']\n",
      "Score for sequence lcl|NZ_CP010896.1_cds_WP_010207718.1_1-4/1 assigned to taxon 321846: 0.5508982035928144\n",
      "Assigned ID: 321846\n",
      "Mappings: ['286:48', '321846:11', '286:1', '321846:17', '286:36', '135621:2', '286:4', '1224:5', '286:2', '2:5', '1224:2', '286:2', '1236:2', '286:2', '1224:3', '1236:5', '286:19']\n",
      "Score for sequence lcl|NZ_CP010896.1_cds_WP_021491428.1_9-2/1 assigned to taxon 321846: 0.1686746987951807\n"
     ]
    },
    {
     "data": {
      "text/plain": [
       "0.1686746987951807"
      ]
     },
     "execution_count": 58,
     "metadata": {},
     "output_type": "execute_result"
    }
   ],
   "source": [
    "# Now we can use this function to calculate the score from any index\n",
    "calculate_score(k2_output, 1)\n",
    "calculate_score(k2_output, 15)"
   ]
  },
  {
   "cell_type": "code",
   "execution_count": 59,
   "metadata": {},
   "outputs": [],
   "source": [
    "import pandas as pd\n",
    "from Bio import SeqIO\n",
    "\n",
    "def fasta_to_dataframe(fasta_file):\n",
    "    data = {\n",
    "        'seq_id': [],\n",
    "        'sequence': [],\n",
    "        'bp_length': []\n",
    "    }\n",
    "\n",
    "    for record in SeqIO.parse(fasta_file, \"fasta\"):\n",
    "        data['seq_id'].append(record.id)\n",
    "        data['sequence'].append(str(record.seq))\n",
    "        data['bp_length'].append(len(record.seq))\n",
    "\n",
    "    df = pd.DataFrame(data)\n",
    "    return df\n",
    "\n",
    "# fasta_file_path = \"/home/j/jparkin/wongkoji/data/merged_paired_mtx.fasta\"\n",
    "# fasta_df = fasta_to_dataframe(fasta_file_path)\n",
    "\n",
    "# Display the fasta df\n",
    "# print(fasta_df)"
   ]
  },
  {
   "cell_type": "code",
   "execution_count": 60,
   "metadata": {},
   "outputs": [
    {
     "data": {
      "text/html": [
       "<div>\n",
       "<style scoped>\n",
       "    .dataframe tbody tr th:only-of-type {\n",
       "        vertical-align: middle;\n",
       "    }\n",
       "\n",
       "    .dataframe tbody tr th {\n",
       "        vertical-align: top;\n",
       "    }\n",
       "\n",
       "    .dataframe thead th {\n",
       "        text-align: right;\n",
       "    }\n",
       "</style>\n",
       "<table border=\"1\" class=\"dataframe\">\n",
       "  <thead>\n",
       "    <tr style=\"text-align: right;\">\n",
       "      <th></th>\n",
       "      <th>seq_id</th>\n",
       "      <th>sequence</th>\n",
       "      <th>bp_length</th>\n",
       "    </tr>\n",
       "  </thead>\n",
       "  <tbody>\n",
       "    <tr>\n",
       "      <th>0</th>\n",
       "      <td>lcl|NZ_CP010896.1_cds_WP_010207718.1_1-2/1</td>\n",
       "      <td>GAGAATGAAGAGCCGTCCCGCGACAGCTTTGATCCGATGGCAGGCG...</td>\n",
       "      <td>199</td>\n",
       "    </tr>\n",
       "    <tr>\n",
       "      <th>1</th>\n",
       "      <td>lcl|NZ_CP010896.1_cds_WP_010207718.1_1-4/1</td>\n",
       "      <td>AGACGACTTGGAGGGCGCAGGAGCAGGAGACGGCGCACTGACAGCC...</td>\n",
       "      <td>201</td>\n",
       "    </tr>\n",
       "    <tr>\n",
       "      <th>2</th>\n",
       "      <td>lcl|NZ_CP010896.1_cds_WP_010207719.1_2-4/1</td>\n",
       "      <td>TGTGCTCTATGCGCGCCGATATCGGTCAGCCGGACCGTCACCAGGT...</td>\n",
       "      <td>216</td>\n",
       "    </tr>\n",
       "    <tr>\n",
       "      <th>3</th>\n",
       "      <td>lcl|NZ_CP010896.1_cds_WP_010207719.1_2-2/1</td>\n",
       "      <td>CTTGCCATCAACCAGCTTGGAGGTGAAGGTGAACTCGCCGGTGGTC...</td>\n",
       "      <td>207</td>\n",
       "    </tr>\n",
       "    <tr>\n",
       "      <th>4</th>\n",
       "      <td>lcl|NZ_CP010896.1_cds_WP_021491432.1_3-2/1</td>\n",
       "      <td>CCCGTCAATGCGAATCTGGAACTCTCCGCCGCGATCACGGGATATC...</td>\n",
       "      <td>187</td>\n",
       "    </tr>\n",
       "  </tbody>\n",
       "</table>\n",
       "</div>"
      ],
      "text/plain": [
       "                                       seq_id  \\\n",
       "0  lcl|NZ_CP010896.1_cds_WP_010207718.1_1-2/1   \n",
       "1  lcl|NZ_CP010896.1_cds_WP_010207718.1_1-4/1   \n",
       "2  lcl|NZ_CP010896.1_cds_WP_010207719.1_2-4/1   \n",
       "3  lcl|NZ_CP010896.1_cds_WP_010207719.1_2-2/1   \n",
       "4  lcl|NZ_CP010896.1_cds_WP_021491432.1_3-2/1   \n",
       "\n",
       "                                            sequence  bp_length  \n",
       "0  GAGAATGAAGAGCCGTCCCGCGACAGCTTTGATCCGATGGCAGGCG...        199  \n",
       "1  AGACGACTTGGAGGGCGCAGGAGCAGGAGACGGCGCACTGACAGCC...        201  \n",
       "2  TGTGCTCTATGCGCGCCGATATCGGTCAGCCGGACCGTCACCAGGT...        216  \n",
       "3  CTTGCCATCAACCAGCTTGGAGGTGAAGGTGAACTCGCCGGTGGTC...        207  \n",
       "4  CCCGTCAATGCGAATCTGGAACTCTCCGCCGCGATCACGGGATATC...        187  "
      ]
     },
     "execution_count": 60,
     "metadata": {},
     "output_type": "execute_result"
    }
   ],
   "source": [
    "import pandas as pd\n",
    "from Bio import SeqIO\n",
    "\n",
    "def fastq_to_dataframe(fastq_file):\n",
    "    data = {\n",
    "        'seq_id': [],\n",
    "        'sequence': [],\n",
    "        'bp_length': []\n",
    "    }\n",
    "\n",
    "    for record in SeqIO.parse(fastq_file, \"fastq\"):\n",
    "        data['seq_id'].append(record.id)\n",
    "        data['sequence'].append(str(record.seq))\n",
    "        data['bp_length'].append(len(record.seq))\n",
    "\n",
    "    df = pd.DataFrame(data)\n",
    "    return df\n",
    "\n",
    "fasta_df = fastq_to_dataframe(fastq_file_path)\n",
    "\n",
    "# Display the fasta df\n",
    "fasta_df.head()"
   ]
  },
  {
   "cell_type": "code",
   "execution_count": 61,
   "metadata": {},
   "outputs": [
    {
     "data": {
      "text/plain": [
       "0             lcl|NZ_CP010896.1_cds_WP_010207718.1_1-2/1\n",
       "1             lcl|NZ_CP010896.1_cds_WP_010207718.1_1-4/1\n",
       "2             lcl|NZ_CP010896.1_cds_WP_010207719.1_2-4/1\n",
       "3             lcl|NZ_CP010896.1_cds_WP_010207719.1_2-2/1\n",
       "4             lcl|NZ_CP010896.1_cds_WP_021491432.1_3-2/1\n",
       "                               ...                      \n",
       "1197487    lcl|NZ_CP115258.1_cds_WP_128447624.1_5908-2/1\n",
       "1197488    lcl|NZ_CP115258.1_cds_WP_023089992.1_5909-4/1\n",
       "1197489    lcl|NZ_CP115258.1_cds_WP_023089992.1_5909-2/1\n",
       "1197490    lcl|NZ_CP115258.1_cds_WP_022581007.1_5910-4/1\n",
       "1197491    lcl|NZ_CP115258.1_cds_WP_022581007.1_5910-2/1\n",
       "Name: seq_id, Length: 1197492, dtype: object"
      ]
     },
     "execution_count": 61,
     "metadata": {},
     "output_type": "execute_result"
    }
   ],
   "source": [
    "fasta_df[\"seq_id\"]"
   ]
  },
  {
   "cell_type": "code",
   "execution_count": 62,
   "metadata": {},
   "outputs": [],
   "source": [
    "a = seq_by_taxon[321846]\n",
    "sequences_taxon_321846 = fasta_df[fasta_df[\"seq_id\"].isin(a)]\n"
   ]
  },
  {
   "cell_type": "code",
   "execution_count": 63,
   "metadata": {},
   "outputs": [
    {
     "name": "stdout",
     "output_type": "stream",
     "text": [
      "                                       seq_id  \\\n",
      "0  lcl|NZ_CP010896.1_cds_WP_010207718.1_1-2/1   \n",
      "1  lcl|NZ_CP010896.1_cds_WP_010207718.1_1-4/1   \n",
      "2  lcl|NZ_CP010896.1_cds_WP_010207719.1_2-4/1   \n",
      "3  lcl|NZ_CP010896.1_cds_WP_010207719.1_2-2/1   \n",
      "4  lcl|NZ_CP010896.1_cds_WP_021491432.1_3-2/1   \n",
      "\n",
      "                                            sequence  bp_length  \n",
      "0  GAGAATGAAGAGCCGTCCCGCGACAGCTTTGATCCGATGGCAGGCG...        199  \n",
      "1  AGACGACTTGGAGGGCGCAGGAGCAGGAGACGGCGCACTGACAGCC...        201  \n",
      "2  TGTGCTCTATGCGCGCCGATATCGGTCAGCCGGACCGTCACCAGGT...        216  \n",
      "3  CTTGCCATCAACCAGCTTGGAGGTGAAGGTGAACTCGCCGGTGGTC...        207  \n",
      "4  CCCGTCAATGCGAATCTGGAACTCTCCGCCGCGATCACGGGATATC...        187  \n"
     ]
    }
   ],
   "source": [
    "print(sequences_taxon_321846[0:5])"
   ]
  },
  {
   "cell_type": "code",
   "execution_count": 64,
   "metadata": {},
   "outputs": [
    {
     "name": "stdout",
     "output_type": "stream",
     "text": [
      "There are 51026 sequences binned in taxon 321846\n"
     ]
    }
   ],
   "source": [
    "print(f\"There are {len(sequences_taxon_321846)} sequences binned in taxon 321846\")"
   ]
  },
  {
   "cell_type": "code",
   "execution_count": 65,
   "metadata": {},
   "outputs": [],
   "source": [
    "# id_to_seq_map = {}\n",
    "# for tax_id in list(seq_by_taxon.keys()):\n",
    "#     print(tax_id)\n",
    "#     seq_ids = seq_by_taxon[tax_id]\n",
    "#     id_to_seq_map[tax_id] = fasta_df[fasta_df[\"seq_id\"].isin(seq_ids)]\n",
    "\n",
    "# need to find a more efficient way"
   ]
  },
  {
   "cell_type": "code",
   "execution_count": 66,
   "metadata": {},
   "outputs": [],
   "source": [
    "fasta_df = fasta_df[fasta_df[\"seq_id\"].isin(k2_output_filt[\"seq_id\"])]\n",
    "merged_df = pd.merge(fasta_df, k2_output[['seq_id', 'taxon_id', \"LCA_mapping\"]], on='seq_id', how='left')"
   ]
  },
  {
   "cell_type": "code",
   "execution_count": 67,
   "metadata": {},
   "outputs": [
    {
     "name": "stdout",
     "output_type": "stream",
     "text": [
      "number of taxons: 21\n",
      "number of reads: 750143\n"
     ]
    }
   ],
   "source": [
    "merged_df.dropna(inplace=True)\n",
    "# Remove unclassified (taxon 0) reads\n",
    "merged_df = merged_df[merged_df[\"taxon_id\"] != 0]\n",
    "print(\"number of taxons:\", len(merged_df['taxon_id'].unique()))\n",
    "print(\"number of reads:\", len(merged_df))"
   ]
  },
  {
   "cell_type": "code",
   "execution_count": 68,
   "metadata": {},
   "outputs": [
    {
     "data": {
      "text/plain": [
       "0          321846\n",
       "1          321846\n",
       "2          321846\n",
       "3          321846\n",
       "4          321846\n",
       "            ...  \n",
       "1197487       287\n",
       "1197488       287\n",
       "1197489       287\n",
       "1197490       287\n",
       "1197491       287\n",
       "Name: taxon_id, Length: 750143, dtype: int64"
      ]
     },
     "execution_count": 68,
     "metadata": {},
     "output_type": "execute_result"
    }
   ],
   "source": [
    "k2_output_filt[\"taxon_id\"]"
   ]
  },
  {
   "cell_type": "code",
   "execution_count": 69,
   "metadata": {},
   "outputs": [],
   "source": [
    "# Check for discrepancies\n",
    "# discrepancies = merged_df[merged_df['taxon_id'] != pd.Series(k2_output_filt['taxon_id'])]\n",
    "\n",
    "# # If there are no discrepancies, discrepancies dataframe will be empty\n",
    "# if discrepancies.empty:\n",
    "#     print(\"All taxon_ids were added correctly.\")\n",
    "# else:\n",
    "#     print(\"Discrepancies found:\")\n",
    "#     print(discrepancies)"
   ]
  },
  {
   "cell_type": "code",
   "execution_count": 70,
   "metadata": {},
   "outputs": [],
   "source": [
    "# Now that we have a DataFrame containing the sequence_ids, sequences, and taxon_ids, we can perform EC analysis with DeepEC\n",
    "# First, let's create a fasta file containing all the seq_ids and sequences corresponding to a taxon\n",
    "\n",
    "# Example taxon_id to filter\n",
    "target_taxon_id = 321846\n",
    "\n",
    "# Filter rows in merged_df based on the target_taxon_id\n",
    "filtered_df = merged_df[merged_df['taxon_id'] == target_taxon_id]\n",
    "\n",
    "# Extract seq_ids and sequences\n",
    "seq_ids = filtered_df['seq_id'].tolist()\n",
    "sequences = filtered_df['sequence'].tolist()\n",
    "\n",
    "# Writing to a FASTA file\n",
    "fasta_file = '/home/j/jparkin/wongkoji/data/taxon_321846_reads.fasta'\n",
    "\n",
    "with open(fasta_file, 'w') as fasta_file:\n",
    "    for seq_id, sequence in zip(seq_ids, sequences):\n",
    "        fasta_file.write(f\">{seq_id}\\n{sequence}\\n\")"
   ]
  },
  {
   "cell_type": "code",
   "execution_count": 71,
   "metadata": {},
   "outputs": [
    {
     "data": {
      "text/plain": [
       "array([ 321846, 1114970,     294,   47883,   76760,     317,   53408,\n",
       "       2895471,  930166,  587753,  380021, 2745498,     303,     287,\n",
       "         76758, 2842346,   78327,   76759, 2565368,  107445, 2219225])"
      ]
     },
     "execution_count": 71,
     "metadata": {},
     "output_type": "execute_result"
    }
   ],
   "source": [
    "merged_df[\"taxon_id\"].unique()"
   ]
  },
  {
   "cell_type": "code",
   "execution_count": 72,
   "metadata": {},
   "outputs": [],
   "source": [
    "# Now that we have a DataFrame containing the sequence_ids, sequences, and taxon_ids, we can perform EC analysis with DeepEC\n",
    "# First, let's create a fasta file containing all the seq_ids and sequences corresponding to a taxon\n",
    "\n",
    "all_taxa = merged_df[\"taxon_id\"].unique()\n",
    "# Example taxon_id to filter\n",
    "target_taxon_id = 321846\n",
    "\n",
    "# Filter rows in merged_df based on the target_taxon_id\n",
    "filtered_df = merged_df[merged_df['taxon_id'] == target_taxon_id]\n",
    "\n",
    "# Extract seq_ids and sequences\n",
    "seq_ids = filtered_df['seq_id'].tolist()\n",
    "sequences = filtered_df['sequence'].tolist()\n",
    "\n",
    "# Writing to a FASTA file\n",
    "fasta_file = '/home/j/jparkin/wongkoji/data/taxon_321846_reads.fasta'\n",
    "\n",
    "with open(fasta_file, 'w') as fasta_file:\n",
    "    for seq_id, sequence in zip(seq_ids, sequences):\n",
    "        fasta_file.write(f\">{seq_id}\\n{sequence}\\n\")"
   ]
  },
  {
   "cell_type": "code",
   "execution_count": 73,
   "metadata": {},
   "outputs": [],
   "source": [
    "from Bio import SeqIO\n",
    "import pandas as pd\n",
    "\n",
    "# Step 1: Read FASTQ file and create DataFrame\n",
    "def fastq_to_df(fastq_file):\n",
    "    records = SeqIO.parse(fastq_file, \"fastq\")\n",
    "    data = [(record.id, str(record.seq), record.letter_annotations[\"phred_quality\"]) for record in records]\n",
    "    df = pd.DataFrame(data, columns=[\"Sequence_ID\", \"Sequence\", \"Quality_Scores\"])\n",
    "    return df\n",
    "\n",
    "# Step 2: Filter DataFrame based on taxon sequence IDs\n",
    "def filter_sequences(df, taxon_sequence_ids):\n",
    "    filtered_df = df[df['Sequence_ID'].isin(taxon_sequence_ids)]\n",
    "    return filtered_df\n",
    "\n",
    "# Step 3: Write filtered sequences to a new FASTQ file\n",
    "def write_filtered_fastq(filtered_df, output_file):\n",
    "    with open(output_file, \"w\") as f:\n",
    "        for index, row in filtered_df.iterrows():\n",
    "            f.write(f\"@{row['Sequence_ID']}\\n\")\n",
    "            f.write(f\"{row['Sequence']}\\n+\\n{''.join(map(chr, pd.Series(row['Quality_Scores']) + 33))}\\n\")\n",
    "\n",
    "# # Example usage\n",
    "taxon = target_taxon_id\n",
    "# fastq_file = fastq_file_path\n",
    "# output_file = f\"/home/j/jparkin/wongkoji/data/{taxon}.fastq\"\n",
    "# # Filter rows in merged_df based on the target_taxon_id\n",
    "# filtered_df = merged_df[merged_df['taxon_id'] == taxon]\n",
    "# taxon_sequence_ids = filtered_df['seq_id'] # Example list of sequence IDs for a specific taxon\n",
    "\n",
    "# # Step 1: Read FASTQ file and create DataFrame\n",
    "# df = fastq_to_df(fastq_file)\n",
    "\n",
    "# # Step 2: Filter DataFrame based on taxon sequence IDs\n",
    "# filtered_df = filter_sequences(df, taxon_sequence_ids)\n",
    "\n",
    "# # Step 3: Write filtered sequences to a new FASTQ file\n",
    "# write_filtered_fastq(filtered_df, output_file)\n"
   ]
  },
  {
   "cell_type": "code",
   "execution_count": 74,
   "metadata": {},
   "outputs": [
    {
     "name": "stderr",
     "output_type": "stream",
     "text": [
      "/scratch/j/jparkin/wongkoji/miniconda3/envs/deepectransformer/lib/python3.6/site-packages/Bio/Seq.py:2338: BiopythonWarning: Partial codon, len(sequence) not a multiple of three. Explicitly trim the sequence or add trailing N before translation. This may become an error in future.\n",
      "  BiopythonWarning,\n"
     ]
    }
   ],
   "source": [
    "from Bio import SeqIO\n",
    "from Bio.Seq import Seq\n",
    "from Bio.SeqRecord import SeqRecord\n",
    "\n",
    "def translate_without_internal_stops(seq):\n",
    "    stop_present = False\n",
    "    translated_seq = seq.translate()\n",
    "    if '*' in translated_seq:\n",
    "        return None\n",
    "    return str(translated_seq)\n",
    "\n",
    "def main(input_file, output_file):\n",
    "    valid_records = []\n",
    "    with open(input_file, 'r') as f:\n",
    "        records = SeqIO.parse(f, 'fasta')\n",
    "        for record in records:\n",
    "            translated_seq = translate_without_internal_stops(record.seq)\n",
    "            if translated_seq:\n",
    "                protein_record = SeqRecord(Seq(translated_seq), id=record.id, description=\"\")\n",
    "                valid_records.append(protein_record)\n",
    "\n",
    "    with open(output_file, 'w') as f:\n",
    "        SeqIO.write(valid_records, f, 'fasta')\n",
    "\n",
    "input_file = f'/home/j/jparkin/wongkoji/data/taxon_{taxon}_reads.fasta'\n",
    "output_file = f'/home/j/jparkin/wongkoji/data/taxon_{taxon}_reads_translated.fasta'\n",
    "main(input_file, output_file)"
   ]
  },
  {
   "cell_type": "code",
   "execution_count": 75,
   "metadata": {},
   "outputs": [],
   "source": [
    "import subprocess\n",
    "#TODO: Get all sequences per taxon and add them to a single fasta for all taxons\n",
    "taxon_ids = list(seq_by_taxon.keys())\n",
    "\n",
    "#TODO: Translate each one\n",
    "\n",
    "#TODO: Pass through deepEC"
   ]
  },
  {
   "cell_type": "code",
   "execution_count": 76,
   "metadata": {},
   "outputs": [
    {
     "name": "stdout",
     "output_type": "stream",
     "text": [
      "19392\n"
     ]
    },
    {
     "data": {
      "text/html": [
       "<div>\n",
       "<style scoped>\n",
       "    .dataframe tbody tr th:only-of-type {\n",
       "        vertical-align: middle;\n",
       "    }\n",
       "\n",
       "    .dataframe tbody tr th {\n",
       "        vertical-align: top;\n",
       "    }\n",
       "\n",
       "    .dataframe thead th {\n",
       "        text-align: right;\n",
       "    }\n",
       "</style>\n",
       "<table border=\"1\" class=\"dataframe\">\n",
       "  <thead>\n",
       "    <tr style=\"text-align: right;\">\n",
       "      <th></th>\n",
       "      <th>sequence_ID</th>\n",
       "      <th>prediction</th>\n",
       "    </tr>\n",
       "  </thead>\n",
       "  <tbody>\n",
       "    <tr>\n",
       "      <th>4</th>\n",
       "      <td>lcl|NZ_CP010896.1_cds_WP_044286386.1_10-4/1</td>\n",
       "      <td>EC:6.1.1.14</td>\n",
       "    </tr>\n",
       "    <tr>\n",
       "      <th>7</th>\n",
       "      <td>lcl|NZ_CP010896.1_cds_WP_003187265.1_11-4/1</td>\n",
       "      <td>EC:6.1.1.14</td>\n",
       "    </tr>\n",
       "    <tr>\n",
       "      <th>16</th>\n",
       "      <td>lcl|NZ_CP010896.1_cds_WP_010207746.1_23-4/1</td>\n",
       "      <td>EC:1.3.3.3</td>\n",
       "    </tr>\n",
       "    <tr>\n",
       "      <th>17</th>\n",
       "      <td>lcl|NZ_CP010896.1_cds_WP_010207746.1_23-2/1</td>\n",
       "      <td>EC:1.3.3.3</td>\n",
       "    </tr>\n",
       "    <tr>\n",
       "      <th>18</th>\n",
       "      <td>lcl|NZ_CP010896.1_cds_WP_010207747.1_24-4/1</td>\n",
       "      <td>EC:1.1.1.25</td>\n",
       "    </tr>\n",
       "    <tr>\n",
       "      <th>...</th>\n",
       "      <td>...</td>\n",
       "      <td>...</td>\n",
       "    </tr>\n",
       "    <tr>\n",
       "      <th>19341</th>\n",
       "      <td>lcl|NZ_CP117448.1_cds_WP_021492572.1_5804-4/1</td>\n",
       "      <td>EC:1.1.1.3</td>\n",
       "    </tr>\n",
       "    <tr>\n",
       "      <th>19356</th>\n",
       "      <td>lcl|NZ_CP117448.1_cds_WP_305469641.1_5821-2/1</td>\n",
       "      <td>EC:3.6.-.-</td>\n",
       "    </tr>\n",
       "    <tr>\n",
       "      <th>19360</th>\n",
       "      <td>lcl|NZ_CP117448.1_cds_WP_042571091.1_5827-4/1</td>\n",
       "      <td>EC:3.5.4.16</td>\n",
       "    </tr>\n",
       "    <tr>\n",
       "      <th>19363</th>\n",
       "      <td>lcl|NZ_CP117448.1_cds_WP_044288079.1_5831-4/1</td>\n",
       "      <td>EC:3.5.4.19</td>\n",
       "    </tr>\n",
       "    <tr>\n",
       "      <th>19370</th>\n",
       "      <td>lcl|NZ_CP117448.1_cds_WP_021491450.1_5840-4/1</td>\n",
       "      <td>EC:6.5.1.2</td>\n",
       "    </tr>\n",
       "  </tbody>\n",
       "</table>\n",
       "<p>2840 rows × 2 columns</p>\n",
       "</div>"
      ],
      "text/plain": [
       "                                         sequence_ID   prediction\n",
       "4        lcl|NZ_CP010896.1_cds_WP_044286386.1_10-4/1  EC:6.1.1.14\n",
       "7        lcl|NZ_CP010896.1_cds_WP_003187265.1_11-4/1  EC:6.1.1.14\n",
       "16       lcl|NZ_CP010896.1_cds_WP_010207746.1_23-4/1   EC:1.3.3.3\n",
       "17       lcl|NZ_CP010896.1_cds_WP_010207746.1_23-2/1   EC:1.3.3.3\n",
       "18       lcl|NZ_CP010896.1_cds_WP_010207747.1_24-4/1  EC:1.1.1.25\n",
       "...                                              ...          ...\n",
       "19341  lcl|NZ_CP117448.1_cds_WP_021492572.1_5804-4/1   EC:1.1.1.3\n",
       "19356  lcl|NZ_CP117448.1_cds_WP_305469641.1_5821-2/1   EC:3.6.-.-\n",
       "19360  lcl|NZ_CP117448.1_cds_WP_042571091.1_5827-4/1  EC:3.5.4.16\n",
       "19363  lcl|NZ_CP117448.1_cds_WP_044288079.1_5831-4/1  EC:3.5.4.19\n",
       "19370  lcl|NZ_CP117448.1_cds_WP_021491450.1_5840-4/1   EC:6.5.1.2\n",
       "\n",
       "[2840 rows x 2 columns]"
      ]
     },
     "execution_count": 76,
     "metadata": {},
     "output_type": "execute_result"
    }
   ],
   "source": [
    "deepec_file = \"/scratch/j/jparkin/wongkoji/deepec_outputs/deepEC_321846/DeepECv2_result.txt\"\n",
    "deepec_df = pd.read_csv(deepec_file, sep='\\t')\n",
    "print(len(deepec_df))\n",
    "# Drop any unannotated reads\n",
    "deepec_df = deepec_df[deepec_df['prediction'] != 'None']\n",
    "# Number of unique enzymes (ECs) present in sample\n",
    "len(deepec_df['prediction'].unique()) - 1\n",
    "deepec_df"
   ]
  },
  {
   "cell_type": "code",
   "execution_count": 77,
   "metadata": {},
   "outputs": [
    {
     "name": "stderr",
     "output_type": "stream",
     "text": [
      "/home/j/jparkin/wongkoji/.local/lib/python3.6/site-packages/ipykernel_launcher.py:19: SettingWithCopyWarning: \n",
      "A value is trying to be set on a copy of a slice from a DataFrame.\n",
      "Try using .loc[row_indexer,col_indexer] = value instead\n",
      "\n",
      "See the caveats in the documentation: https://pandas.pydata.org/pandas-docs/stable/user_guide/indexing.html#returning-a-view-versus-a-copy\n"
     ]
    },
    {
     "data": {
      "text/html": [
       "<div>\n",
       "<style scoped>\n",
       "    .dataframe tbody tr th:only-of-type {\n",
       "        vertical-align: middle;\n",
       "    }\n",
       "\n",
       "    .dataframe tbody tr th {\n",
       "        vertical-align: top;\n",
       "    }\n",
       "\n",
       "    .dataframe thead th {\n",
       "        text-align: right;\n",
       "    }\n",
       "</style>\n",
       "<table border=\"1\" class=\"dataframe\">\n",
       "  <thead>\n",
       "    <tr style=\"text-align: right;\">\n",
       "      <th></th>\n",
       "      <th>sequence_ID</th>\n",
       "      <th>prediction</th>\n",
       "    </tr>\n",
       "  </thead>\n",
       "  <tbody>\n",
       "    <tr>\n",
       "      <th>19337</th>\n",
       "      <td>lcl|NZ_CP117448.1_cds_WP_010207600.1_5797-4/1</td>\n",
       "      <td>ec:3.1.3.15</td>\n",
       "    </tr>\n",
       "    <tr>\n",
       "      <th>19341</th>\n",
       "      <td>lcl|NZ_CP117448.1_cds_WP_021492572.1_5804-4/1</td>\n",
       "      <td>ec:1.1.1.3</td>\n",
       "    </tr>\n",
       "    <tr>\n",
       "      <th>19360</th>\n",
       "      <td>lcl|NZ_CP117448.1_cds_WP_042571091.1_5827-4/1</td>\n",
       "      <td>ec:3.5.4.16</td>\n",
       "    </tr>\n",
       "    <tr>\n",
       "      <th>19363</th>\n",
       "      <td>lcl|NZ_CP117448.1_cds_WP_044288079.1_5831-4/1</td>\n",
       "      <td>ec:3.5.4.19</td>\n",
       "    </tr>\n",
       "    <tr>\n",
       "      <th>19370</th>\n",
       "      <td>lcl|NZ_CP117448.1_cds_WP_021491450.1_5840-4/1</td>\n",
       "      <td>ec:6.5.1.2</td>\n",
       "    </tr>\n",
       "  </tbody>\n",
       "</table>\n",
       "</div>"
      ],
      "text/plain": [
       "                                         sequence_ID   prediction\n",
       "19337  lcl|NZ_CP117448.1_cds_WP_010207600.1_5797-4/1  ec:3.1.3.15\n",
       "19341  lcl|NZ_CP117448.1_cds_WP_021492572.1_5804-4/1   ec:1.1.1.3\n",
       "19360  lcl|NZ_CP117448.1_cds_WP_042571091.1_5827-4/1  ec:3.5.4.16\n",
       "19363  lcl|NZ_CP117448.1_cds_WP_044288079.1_5831-4/1  ec:3.5.4.19\n",
       "19370  lcl|NZ_CP117448.1_cds_WP_021491450.1_5840-4/1   ec:6.5.1.2"
      ]
     },
     "execution_count": 77,
     "metadata": {},
     "output_type": "execute_result"
    }
   ],
   "source": [
    "# still contains incomplete ECs eg. EC:3.6.-.-\n",
    "#TODO: these incomplete ECs\n",
    "def clean_ec_data(ec_number):\n",
    "    if not ec_number:\n",
    "        return \"None\"\n",
    "    if '-' in ec_number:\n",
    "        return \"None\"\n",
    "    # TODO: split these\n",
    "    elif ';' in ec_number:\n",
    "        return \"None\"\n",
    "    else:\n",
    "        return ec_number\n",
    "    \n",
    "deepec_df['prediction'] = deepec_df['prediction'].apply(clean_ec_data)\n",
    "\n",
    "# Drop any unannotated reads\n",
    "deepec_df = deepec_df[deepec_df['prediction'] != 'None']\n",
    "# format ECs with lowercase for KEGG API\n",
    "deepec_df['prediction'] = deepec_df['prediction'].apply(str.lower)\n",
    "deepec_df.tail()"
   ]
  },
  {
   "cell_type": "code",
   "execution_count": 78,
   "metadata": {},
   "outputs": [],
   "source": [
    "from Bio.KEGG.REST import kegg_link\n",
    "\n",
    "# Define the pathway ID\n",
    "pathway_id = 'ec00300'  # 'path:' prefix indicates a pathway in KEGG"
   ]
  },
  {
   "cell_type": "code",
   "execution_count": 79,
   "metadata": {},
   "outputs": [],
   "source": [
    "# creating a df for our ecs\n",
    "enzymes_file = os.path.join(parent_dir, \"db/enzymes_ec.tsv\")\n",
    "enzymes_df = pd.read_csv(enzymes_file, delimiter='\\t', names=[\"ec\", \"name\"])\n",
    "# creating a df for our pathways\n",
    "pathways_file = os.path.join(parent_dir, \"db/pathways_ec.tsv\")\n",
    "pathways_df = pd.read_csv(pathways_file, delimiter='\\t', names=[\"pathway\", \"function\"])"
   ]
  },
  {
   "cell_type": "code",
   "execution_count": 80,
   "metadata": {},
   "outputs": [],
   "source": [
    "# load in our ec-pathways relationship\n",
    "import json\n",
    "json_file = open(os.path.join(parent_dir, \"db/pathways.json\"), \"r\")\n",
    "ec_paths = json.load(json_file)"
   ]
  },
  {
   "cell_type": "code",
   "execution_count": 81,
   "metadata": {},
   "outputs": [],
   "source": [
    "# rows = [(key, value) for key, values in ec_paths.items() for value in values]\n",
    "# paths_to_ec_df = pd.DataFrame(rows, columns=['pathway', 'ec'])\n",
    "# paths_to_ec_df.head()\n",
    "\n",
    "paths_to_ec_df = pd.read_csv(os.path.join(parent_dir, \"db/pathways_ecs.csv\"))"
   ]
  },
  {
   "cell_type": "code",
   "execution_count": 82,
   "metadata": {},
   "outputs": [],
   "source": [
    "def get_pathways(ec_id, df: pd.DataFrame):\n",
    "    \"\"\"get a list of pathways given an EC number in format ec:#.#.#.#\"\"\"\n",
    "    if \"ec:\" not in ec_id:\n",
    "        raise NameError\n",
    "    return list(df[df['ec'] == ec_id]['pathway'])\n",
    "\n",
    "def get_enzymes(pathway_id, df: pd.DataFrame):\n",
    "    \"\"\"get a list of enzymes given a KEGG pathway in format ec#####\"\"\"\n",
    "    return list(df[df['pathway'] == pathway_id]['ec']) "
   ]
  },
  {
   "cell_type": "code",
   "execution_count": 83,
   "metadata": {},
   "outputs": [
    {
     "data": {
      "text/html": [
       "<div>\n",
       "<style scoped>\n",
       "    .dataframe tbody tr th:only-of-type {\n",
       "        vertical-align: middle;\n",
       "    }\n",
       "\n",
       "    .dataframe tbody tr th {\n",
       "        vertical-align: top;\n",
       "    }\n",
       "\n",
       "    .dataframe thead th {\n",
       "        text-align: right;\n",
       "    }\n",
       "</style>\n",
       "<table border=\"1\" class=\"dataframe\">\n",
       "  <thead>\n",
       "    <tr style=\"text-align: right;\">\n",
       "      <th></th>\n",
       "      <th>pathway</th>\n",
       "      <th>ec</th>\n",
       "    </tr>\n",
       "  </thead>\n",
       "  <tbody>\n",
       "    <tr>\n",
       "      <th>96</th>\n",
       "      <td>ec01100</td>\n",
       "      <td>ec:1.1.1.3</td>\n",
       "    </tr>\n",
       "    <tr>\n",
       "      <th>2866</th>\n",
       "      <td>ec01110</td>\n",
       "      <td>ec:1.1.1.3</td>\n",
       "    </tr>\n",
       "    <tr>\n",
       "      <th>4186</th>\n",
       "      <td>ec01120</td>\n",
       "      <td>ec:1.1.1.3</td>\n",
       "    </tr>\n",
       "    <tr>\n",
       "      <th>6759</th>\n",
       "      <td>ec00260</td>\n",
       "      <td>ec:1.1.1.3</td>\n",
       "    </tr>\n",
       "    <tr>\n",
       "      <th>6829</th>\n",
       "      <td>ec00270</td>\n",
       "      <td>ec:1.1.1.3</td>\n",
       "    </tr>\n",
       "  </tbody>\n",
       "</table>\n",
       "</div>"
      ],
      "text/plain": [
       "      pathway          ec\n",
       "96    ec01100  ec:1.1.1.3\n",
       "2866  ec01110  ec:1.1.1.3\n",
       "4186  ec01120  ec:1.1.1.3\n",
       "6759  ec00260  ec:1.1.1.3\n",
       "6829  ec00270  ec:1.1.1.3"
      ]
     },
     "execution_count": 83,
     "metadata": {},
     "output_type": "execute_result"
    }
   ],
   "source": [
    "# to get all the ecs for a pathway\n",
    "paths_to_ec_df[paths_to_ec_df['pathway'] == \"ec00970\"].head()\n",
    "# to get all the pathways for an ec\n",
    "paths_to_ec_df[paths_to_ec_df['ec'] == \"ec:1.1.1.3\"].head()"
   ]
  },
  {
   "cell_type": "code",
   "execution_count": 84,
   "metadata": {},
   "outputs": [],
   "source": [
    "ec_pathways_dict = {}\n",
    "# Finds pathways an enzyme is present in within half a second\n",
    "def find_pathways_opt(ec_number, ec_pathways_dict):\n",
    "    \"\"\"Finds pathways an enzyme is present\n",
    "\n",
    "    Args:\n",
    "        ec_number (str): must be a valid Enzyme Commission number\n",
    "\n",
    "    Returns:\n",
    "        list of pathways\n",
    "    \"\"\"\n",
    "    if 'ec' not in ec_number:\n",
    "        ec_number = f\"ec:{ec_number}\"\n",
    "    pathways = get_pathways(ec_number, paths_to_ec_df)\n",
    "    for path in pathways:\n",
    "        if path not in ec_pathways_dict:\n",
    "            ec_pathways_dict[path] = [ec_number]\n",
    "        else:\n",
    "            ec_pathways_dict[path].append(ec_number)\n",
    "    return ec_pathways_dict"
   ]
  },
  {
   "cell_type": "code",
   "execution_count": 85,
   "metadata": {},
   "outputs": [
    {
     "name": "stdout",
     "output_type": "stream",
     "text": [
      "{'ec00970': ['ec:6.1.1.1', 'ec:6.1.1.18', 'ec:6.1.1.5', 'ec:6.3.5.7', 'ec:6.1.1.10', 'ec:2.1.2.9', 'ec:6.1.1.6', 'ec:6.1.1.11', 'ec:6.1.1.14', 'ec:6.1.1.21', 'ec:6.1.1.19', 'ec:6.1.1.15', 'ec:6.1.1.7', 'ec:6.1.1.16', 'ec:6.1.1.20', 'ec:6.1.1.4', 'ec:6.1.1.9', 'ec:6.1.1.2'], 'ec01100': ['ec:2.3.1.15', 'ec:2.7.1.23', 'ec:1.14.13.131', 'ec:2.6.1.1', 'ec:5.4.99.2', 'ec:1.14.11.1', 'ec:2.7.9.2', 'ec:6.3.1.11', 'ec:5.3.3.2', 'ec:5.3.1.16', 'ec:2.7.4.23', 'ec:4.2.1.9', 'ec:2.5.1.18', 'ec:3.5.2.7', 'ec:2.5.1.3', 'ec:1.11.1.7', 'ec:3.5.3.4', 'ec:4.3.2.3', 'ec:2.1.3.3', 'ec:2.7.7.33', 'ec:4.2.1.164', 'ec:2.3.1.41', 'ec:2.1.1.152', 'ec:3.1.3.1', 'ec:2.7.1.25', 'ec:1.3.1.98', 'ec:6.3.5.2', 'ec:4.1.1.81', 'ec:4.3.2.1', 'ec:5.3.1.28', 'ec:4.1.3.40', 'ec:1.14.99.1', 'ec:2.7.1.202', 'ec:2.8.3.5', 'ec:2.3.1.274', 'ec:3.5.4.25', 'ec:1.5.1.42', 'ec:1.14.13.127', 'ec:1.2.1.19', 'ec:6.1.1.18', 'ec:3.1.2.6', 'ec:2.6.1.113', 'ec:1.1.1.60', 'ec:4.2.1.84', 'ec:1.2.1.41', 'ec:3.1.3.45', 'ec:2.7.2.2', 'ec:2.4.2.21', 'ec:4.1.1.97', 'ec:5.3.1.8', 'ec:4.1.2.21', 'ec:2.3.1.109', 'ec:2.1.1.164', 'ec:6.3.4.21', 'ec:1.7.1.15', 'ec:1.5.3.1', 'ec:2.7.2.11', 'ec:2.3.1.16', 'ec:5.2.1.1', 'ec:2.3.1.117', 'ec:1.13.11.54', 'ec:3.5.1.106', 'ec:2.5.1.49', 'ec:2.7.9.1', 'ec:6.3.2.4', 'ec:6.3.4.5', 'ec:1.4.3.5', 'ec:1.2.1.3', 'ec:3.7.1.22', 'ec:3.5.4.19', 'ec:4.2.1.19', 'ec:2.7.1.33', 'ec:4.1.1.31', 'ec:1.4.99.6', 'ec:1.4.1.21', 'ec:1.1.2.7', 'ec:2.7.7.3', 'ec:3.5.1.42', 'ec:4.1.2.50', 'ec:3.4.11.2', 'ec:5.4.99.16', 'ec:4.2.1.51', 'ec:2.7.6.3', 'ec:2.7.1.221', 'ec:2.7.1.12', 'ec:4.3.1.24', 'ec:3.2.1.2', 'ec:1.8.1.4', 'ec:4.1.3.30', 'ec:3.5.4.3', 'ec:1.14.13.240', 'ec:1.1.1.2', 'ec:1.2.1.38', 'ec:1.13.11.1', 'ec:1.1.5.8', 'ec:5.1.3.2', 'ec:1.1.1.313', 'ec:1.1.1.81', 'ec:6.3.4.3', 'ec:2.4.1.21', 'ec:6.2.1.16', 'ec:1.2.4.4', 'ec:1.1.1.343', 'ec:1.4.1.2', 'ec:4.1.1.111', 'ec:2.4.1.227', 'ec:1.3.8.5', 'ec:3.5.99.2', 'ec:1.3.8.8', 'ec:1.1.1.25', 'ec:2.10.1.1', 'ec:1.1.1.290', 'ec:5.4.2.8', 'ec:2.7.1.30', 'ec:2.3.1.30', 'ec:4.3.3.7', 'ec:2.5.1.6', 'ec:3.2.2.4', 'ec:6.3.2.8', 'ec:4.1.3.1', 'ec:1.4.1.4', 'ec:3.6.1.8', 'ec:1.13.12.3', 'ec:2.8.3.22', 'ec:1.1.1.23', 'ec:4.1.1.17', 'ec:6.3.5.7', 'ec:6.3.5.3', 'ec:3.2.1.15', 'ec:4.1.1.112', 'ec:2.6.1.62', 'ec:3.1.3.5', 'ec:1.13.11.79', 'ec:1.13.11.2', 'ec:1.2.1.72', 'ec:3.6.1.31', 'ec:3.1.1.31', 'ec:1.13.11.5', 'ec:6.1.1.10', 'ec:2.5.1.47', 'ec:1.1.1.132', 'ec:1.3.98.3', 'ec:4.2.3.1', 'ec:2.3.1.4', 'ec:5.1.3.15', 'ec:4.3.1.9', 'ec:3.5.2.2', 'ec:2.3.1.61', 'ec:3.5.3.6', 'ec:2.5.1.9', 'ec:2.8.1.4', 'ec:1.14.99.60', 'ec:3.5.2.3', 'ec:1.14.14.9', 'ec:2.6.1.42', 'ec:4.2.1.10', 'ec:1.5.1.38', 'ec:2.7.4.22', 'ec:3.5.1.4', 'ec:2.7.7.99', 'ec:2.7.7.27', 'ec:3.1.4.53', 'ec:3.6.1.23', 'ec:5.3.2.6', 'ec:2.5.1.7', 'ec:1.1.1.18', 'ec:2.1.2.9', 'ec:5.1.1.13', 'ec:2.4.2.9', 'ec:2.3.1.179', 'ec:1.14.16.1', 'ec:1.17.7.4', 'ec:3.5.2.17', 'ec:2.7.7.2', 'ec:2.3.1.181', 'ec:2.1.2.10', 'ec:2.5.1.55', 'ec:1.8.1.2', 'ec:3.6.1.11', 'ec:5.3.1.22', 'ec:4.2.1.1', 'ec:5.4.3.8', 'ec:1.2.1.26', 'ec:1.2.1.8', 'ec:2.7.1.175', 'ec:2.1.1.45', 'ec:2.4.2.18', 'ec:1.1.1.195', 'ec:4.1.2.14', 'ec:3.11.1.1', 'ec:2.4.99.16', 'ec:1.1.1.22', 'ec:4.4.1.15', 'ec:2.3.1.199', 'ec:2.7.1.107', 'ec:1.1.99.3', 'ec:3.5.2.9', 'ec:1.14.12.1', 'ec:1.7.2.1', 'ec:3.6.1.54', 'ec:4.1.1.8', 'ec:3.2.1.35', 'ec:5.3.3.7', 'ec:1.7.1.1', 'ec:2.7.1.121', 'ec:1.6.5.2', 'ec:1.2.1.16', 'ec:2.5.1.17', 'ec:3.5.1.5', 'ec:3.1.1.3', 'ec:4.2.1.59', 'ec:4.2.1.45', 'ec:5.1.3.13', 'ec:2.4.1.25', 'ec:2.1.1.104', 'ec:2.7.4.9', 'ec:4.2.2.3', 'ec:3.6.1.66', 'ec:6.6.1.1', 'ec:6.3.4.15', 'ec:2.2.1.1', 'ec:2.2.1.2', 'ec:2.7.1.71', 'ec:6.2.1.41', 'ec:2.7.2.3', 'ec:1.8.99.2', 'ec:4.3.1.3', 'ec:2.8.1.7', 'ec:3.5.4.13', 'ec:3.5.4.27', 'ec:1.8.1.7', 'ec:4.1.2.48', 'ec:2.7.6.1', 'ec:2.3.1.174', 'ec:1.1.1.169', 'ec:5.1.1.1', 'ec:4.2.1.41', 'ec:2.6.1.2', 'ec:2.6.1.18', 'ec:2.7.1.2', 'ec:3.5.4.9', 'ec:6.3.5.9', 'ec:6.3.2.3', 'ec:4.1.1.65', 'ec:5.3.1.25', 'ec:4.4.1.22', 'ec:6.3.2.9', 'ec:1.1.1.6', 'ec:3.5.1.107', 'ec:1.1.1.262', 'ec:2.3.1.286', 'ec:2.3.3.9', 'ec:1.2.1.12', 'ec:1.3.5.2', 'ec:2.3.3.13', 'ec:2.1.1.37', 'ec:2.3.1.9', 'ec:2.6.99.2', 'ec:4.2.1.18', 'ec:4.2.3.4', 'ec:1.1.1.3', 'ec:4.3.2.10', 'ec:2.1.2.1', 'ec:5.1.3.37', 'ec:2.4.2.7', 'ec:2.5.1.74', 'ec:2.3.1.31', 'ec:2.3.1.51', 'ec:3.7.1.2', 'ec:1.4.1.25', 'ec:2.1.1.131', 'ec:2.2.1.6', 'ec:2.5.1.78', 'ec:3.1.3.15', 'ec:2.3.1.1', 'ec:1.13.11.11', 'ec:2.8.1.12', 'ec:2.7.8.7', 'ec:5.4.99.18', 'ec:4.2.1.96', 'ec:3.13.1.1', 'ec:2.5.1.75', 'ec:5.3.1.13', 'ec:4.1.2.13', 'ec:2.1.2.3', 'ec:3.5.1.9', 'ec:3.2.1.91', 'ec:2.5.1.61', 'ec:4.3.1.17', 'ec:2.7.1.165', 'ec:3.6.1.41', 'ec:2.4.2.19', 'ec:5.3.1.6', 'ec:2.4.2.10', 'ec:2.5.1.19', 'ec:2.6.1.52', 'ec:1.3.1.9', 'ec:6.3.2.1', 'ec:3.2.1.141', 'ec:4.2.1.24', 'ec:2.7.2.8', 'ec:4.1.1.23', 'ec:1.1.1.100', 'ec:4.2.1.134', 'ec:2.7.7.41', 'ec:6.3.1.2', 'ec:2.3.1.46', 'ec:2.1.1.130', 'ec:2.4.2.17', 'ec:2.4.1.33', 'ec:1.1.1.37', 'ec:2.4.1.182', 'ec:3.2.1.55', 'ec:3.5.1.96', 'ec:1.11.1.6', 'ec:2.8.1.1', 'ec:4.1.1.4', 'ec:6.2.1.5', 'ec:3.6.1.22', 'ec:2.4.1.18', 'ec:1.1.1.367', 'ec:2.7.4.3', 'ec:2.7.1.130', 'ec:6.1.1.13', 'ec:6.4.1.4', 'ec:2.7.7.77', 'ec:3.5.1.2', 'ec:2.3.1.8', 'ec:2.5.1.141', 'ec:4.1.1.19', 'ec:3.2.1.10', 'ec:4.1.1.47', 'ec:3.5.3.23', 'ec:5.1.3.9', 'ec:2.8.1.2', 'ec:3.1.3.25', 'ec:2.7.1.58', 'ec:1.1.1.35', 'ec:1.7.1.13', 'ec:2.7.1.26', 'ec:3.6.1.9', 'ec:3.2.1.45', 'ec:2.5.1.15', 'ec:5.3.3.10', 'ec:4.2.1.20', 'ec:4.2.1.49', 'ec:1.1.5.4', 'ec:1.1.1.40', 'ec:4.1.1.98', 'ec:1.2.1.70', 'ec:1.14.14.35', 'ec:6.3.5.5', 'ec:2.3.1.37', 'ec:1.2.1.11', 'ec:2.5.1.39', 'ec:1.14.14.17', 'ec:4.2.1.46', 'ec:5.1.1.3', 'ec:1.7.2.2', 'ec:3.2.1.21', 'ec:4.1.1.48', 'ec:1.1.1.86', 'ec:2.4.99.12', 'ec:2.7.4.6', 'ec:1.1.1.203', 'ec:4.1.1.37', 'ec:1.13.11.20', 'ec:6.3.4.13', 'ec:1.13.11.27', 'ec:2.7.1.39', 'ec:5.3.1.24', 'ec:5.4.2.10', 'ec:6.3.1.5', 'ec:1.1.2.8', 'ec:2.7.1.31', 'ec:2.1.1.132', 'ec:2.8.3.6', 'ec:3.5.4.5', 'ec:1.1.1.44', 'ec:6.3.2.2', 'ec:2.1.2.11', 'ec:4.2.1.75', 'ec:3.1.3.11', 'ec:2.4.1.1', 'ec:3.1.2.4', 'ec:1.4.4.2', 'ec:2.7.1.15', 'ec:1.1.1.31', 'ec:3.2.1.4', 'ec:4.2.1.2', 'ec:2.7.7.60', 'ec:1.18.1.2', 'ec:2.7.7.9', 'ec:7.1.1.1', 'ec:2.7.8.29', 'ec:2.5.1.129', 'ec:3.1.2.12', 'ec:2.7.7.4', 'ec:4.1.3.27', 'ec:1.17.7.3', 'ec:3.1.3.105', 'ec:5.5.1.1', 'ec:1.6.1.1', 'ec:7.1.2.2', 'ec:6.3.4.2', 'ec:1.8.4.14', 'ec:4.2.3.5', 'ec:1.11.1.9', 'ec:1.14.13.2', 'ec:6.3.3.1', 'ec:2.7.4.8', 'ec:2.3.1.47', 'ec:1.13.11.9', 'ec:2.6.1.16', 'ec:3.1.3.3', 'ec:2.2.1.7', 'ec:6.6.1.2', 'ec:2.3.1.39', 'ec:4.1.1.49', 'ec:1.3.8.6', 'ec:2.3.1.275', 'ec:1.1.1.122', 'ec:1.5.1.3', 'ec:3.1.3.7', 'ec:5.4.99.61', 'ec:4.1.2.52', 'ec:2.7.1.45', 'ec:5.3.1.9', 'ec:1.3.3.3', 'ec:5.5.1.2', 'ec:4.1.1.44', 'ec:1.3.1.14', 'ec:4.6.1.1', 'ec:2.7.1.170', 'ec:2.5.1.54', 'ec:1.7.3.3', 'ec:2.3.1.74', 'ec:2.7.7.38', 'ec:2.7.1.50', 'ec:4.1.1.39', 'ec:3.5.3.12', 'ec:5.3.1.1', 'ec:1.17.1.8', 'ec:3.3.2.10', 'ec:4.3.1.7', 'ec:3.7.1.3', 'ec:2.6.1.13', 'ec:6.3.4.18', 'ec:6.2.1.3', 'ec:1.4.1.13', 'ec:4.2.1.33', 'ec:3.1.1.32', 'ec:2.4.2.22', 'ec:1.3.1.76', 'ec:6.3.4.4', 'ec:2.6.1.48', 'ec:5.3.3.4', 'ec:5.1.1.7', 'ec:1.2.1.83', 'ec:2.7.1.17', 'ec:1.1.1.49', 'ec:4.2.1.17', 'ec:3.5.4.2', 'ec:4.2.1.104', 'ec:1.4.3.16', 'ec:1.7.1.4', 'ec:2.7.7.18', 'ec:1.13.11.3', 'ec:1.1.1.42', 'ec:3.5.3.7', 'ec:2.6.1.9', 'ec:4.1.99.17', 'ec:2.7.1.35', 'ec:1.7.5.1', 'ec:3.2.1.23', 'ec:6.2.1.2', 'ec:2.6.1.11', 'ec:1.14.13.114', 'ec:2.7.9.3', 'ec:4.2.1.12', 'ec:3.2.1.52', 'ec:3.1.1.11', 'ec:2.4.1.109', 'ec:2.8.1.10', 'ec:4.1.99.12', 'ec:1.5.1.36', 'ec:2.7.1.159', 'ec:7.1.1.8', 'ec:7.1.1.2', 'ec:1.1.1.85', 'ec:2.7.8.5', 'ec:1.17.2.1', 'ec:2.7.2.4', 'ec:6.3.2.6', 'ec:2.5.1.72', 'ec:2.1.1.334', 'ec:1.5.1.20', 'ec:1.3.8.4', 'ec:2.7.8.26', 'ec:3.5.1.10', 'ec:1.14.13.59', 'ec:1.3.8.1', 'ec:4.3.2.2', 'ec:4.3.1.19', 'ec:3.5.4.16', 'ec:4.6.1.12', 'ec:4.4.1.5', 'ec:2.6.1.37', 'ec:2.1.1.133', 'ec:2.7.4.25', 'ec:2.3.1.101', 'ec:4.2.2.2', 'ec:3.5.1.25', 'ec:3.2.1.93'], 'ec01110': ['ec:2.3.1.15', 'ec:2.6.1.1', 'ec:2.7.9.2', 'ec:5.3.3.2', 'ec:5.3.1.16', 'ec:4.2.1.9', 'ec:1.11.1.7', 'ec:2.1.3.3', 'ec:4.2.1.164', 'ec:2.5.1.31', 'ec:1.2.1.68', 'ec:4.3.2.1', 'ec:4.1.3.40', 'ec:3.5.4.25', 'ec:4.1.1.5', 'ec:1.2.1.41', 'ec:5.3.1.8', 'ec:2.1.1.164', 'ec:2.7.2.11', 'ec:2.3.1.16', 'ec:2.7.9.1', 'ec:6.3.4.5', 'ec:1.2.1.3', 'ec:3.5.4.19', 'ec:4.2.1.19', 'ec:1.1.2.7', 'ec:1.1.1.94', 'ec:4.2.1.51', 'ec:2.7.1.12', 'ec:4.3.1.24', 'ec:3.2.1.2', 'ec:1.8.1.4', 'ec:1.1.1.2', 'ec:1.2.1.38', 'ec:1.1.5.8', 'ec:1.1.1.81', 'ec:2.4.1.21', 'ec:1.2.4.4', 'ec:1.1.1.343', 'ec:4.1.1.111', 'ec:1.3.8.5', 'ec:1.1.1.25', 'ec:5.4.2.8', 'ec:2.3.1.30', 'ec:4.3.3.7', 'ec:2.5.1.6', 'ec:4.1.3.1', 'ec:1.1.1.23', 'ec:4.1.1.17', 'ec:6.3.5.3', 'ec:3.1.3.5', 'ec:3.6.1.31', 'ec:3.1.1.31', 'ec:1.1.1.304', 'ec:2.5.1.47', 'ec:1.3.98.3', 'ec:4.2.3.1', 'ec:5.1.3.15', 'ec:2.3.1.61', 'ec:3.5.3.6', 'ec:2.5.1.9', 'ec:1.14.99.60', 'ec:2.6.1.42', 'ec:4.2.1.10', 'ec:2.7.7.27', 'ec:1.1.1.18', 'ec:1.17.7.4', 'ec:2.7.7.2', 'ec:2.1.2.10', 'ec:5.4.3.8', 'ec:2.4.2.18', 'ec:1.1.1.195', 'ec:1.14.99.58', 'ec:2.3.1.199', 'ec:2.7.1.107', 'ec:1.6.5.2', 'ec:5.1.3.13', 'ec:2.1.1.104', 'ec:6.6.1.1', 'ec:2.2.1.1', 'ec:2.2.1.2', 'ec:2.7.1.71', 'ec:2.7.2.3', 'ec:4.1.2.48', 'ec:2.7.6.1', 'ec:1.1.1.169', 'ec:2.7.1.2', 'ec:4.1.1.65', 'ec:2.3.3.9', 'ec:1.2.1.12', 'ec:2.3.3.13', 'ec:2.3.1.9', 'ec:4.2.3.4', 'ec:1.1.1.3', 'ec:4.3.2.10', 'ec:2.1.2.1', 'ec:2.5.1.74', 'ec:2.3.1.51', 'ec:2.2.1.6', 'ec:2.5.1.78', 'ec:3.1.3.15', 'ec:2.3.1.1', 'ec:5.4.99.18', 'ec:2.5.1.75', 'ec:4.1.2.13', 'ec:2.1.2.3', 'ec:2.5.1.61', 'ec:4.3.1.17', 'ec:2.7.1.165', 'ec:5.3.1.6', 'ec:2.5.1.19', 'ec:2.6.1.52', 'ec:6.3.2.1', 'ec:3.2.1.141', 'ec:4.2.1.24', 'ec:2.7.2.8', 'ec:4.2.1.134', 'ec:2.7.7.41', 'ec:2.3.1.46', 'ec:2.4.2.17', 'ec:1.1.1.37', 'ec:1.11.1.6', 'ec:6.2.1.5', 'ec:2.4.1.18', 'ec:2.7.4.3', 'ec:2.5.1.141', 'ec:4.1.1.19', 'ec:3.1.3.25', 'ec:1.1.1.35', 'ec:2.7.1.26', 'ec:3.6.1.9', 'ec:1.2.4.1', 'ec:4.2.1.20', 'ec:1.1.5.4', 'ec:1.2.1.70', 'ec:1.1.5.3', 'ec:2.3.1.37', 'ec:1.2.1.11', 'ec:2.5.1.39', 'ec:1.14.14.17', 'ec:4.2.1.46', 'ec:3.2.1.21', 'ec:4.1.1.48', 'ec:1.1.1.86', 'ec:2.7.4.6', 'ec:2.5.1.87', 'ec:4.1.1.37', 'ec:6.3.4.13', 'ec:2.7.1.39', 'ec:5.3.1.24', 'ec:1.1.2.8', 'ec:2.7.1.31', 'ec:1.1.1.44', 'ec:2.1.2.11', 'ec:4.2.1.75', 'ec:3.1.3.11', 'ec:2.4.1.1', 'ec:1.4.4.2', 'ec:4.2.1.2', 'ec:2.7.7.60', 'ec:2.7.7.9', 'ec:2.7.8.24', 'ec:2.7.8.29', 'ec:2.7.7.4', 'ec:4.1.3.27', 'ec:1.17.7.3', 'ec:4.2.3.5', 'ec:6.3.3.1', 'ec:3.1.3.3', 'ec:2.2.1.7', 'ec:4.1.1.49', 'ec:1.3.8.6', 'ec:1.1.1.122', 'ec:5.3.1.9', 'ec:1.3.3.3', 'ec:2.5.1.54', 'ec:2.3.1.74', 'ec:4.1.1.39', 'ec:5.3.1.1', 'ec:1.17.1.8', 'ec:2.6.1.13', 'ec:6.3.4.18', 'ec:1.4.1.13', 'ec:4.2.1.33', 'ec:3.1.1.32', 'ec:2.4.2.22', 'ec:1.3.1.76', 'ec:5.1.1.7', 'ec:1.1.1.49', 'ec:4.2.1.17', 'ec:1.1.1.42', 'ec:3.5.2.6', 'ec:2.6.1.9', 'ec:2.3.1.12', 'ec:2.6.1.11', 'ec:4.1.99.12', 'ec:1.1.1.85', 'ec:2.7.2.4', 'ec:6.3.2.6', 'ec:1.14.13.59', 'ec:1.3.8.1', 'ec:4.3.2.2', 'ec:4.3.1.19', 'ec:4.6.1.12'], 'ec00561': ['ec:2.3.1.15', 'ec:2.3.1.274', 'ec:1.2.1.3', 'ec:1.1.1.2', 'ec:2.7.1.30', 'ec:2.7.1.107', 'ec:2.7.1.121', 'ec:3.1.1.3', 'ec:1.1.1.6', 'ec:2.3.1.51', 'ec:3.13.1.1', 'ec:2.7.1.165', 'ec:2.7.1.31', 'ec:2.7.7.9', 'ec:2.3.1.275'], 'ec00564': ['ec:2.3.1.15', 'ec:1.1.1.94', 'ec:2.7.1.107', 'ec:4.1.1.65', 'ec:2.3.1.51', 'ec:2.7.7.41', 'ec:1.1.5.3', 'ec:2.7.8.24', 'ec:2.7.8.29', 'ec:2.3.1.275', 'ec:4.3.1.7', 'ec:3.1.1.32', 'ec:2.7.8.5'], 'ec00760': ['ec:2.7.1.23', 'ec:6.3.4.21', 'ec:5.2.1.1', 'ec:3.5.1.106', 'ec:1.4.1.21', 'ec:3.5.1.42', 'ec:3.1.3.5', 'ec:1.2.1.16', 'ec:3.5.1.107', 'ec:2.3.1.286', 'ec:2.4.2.19', 'ec:3.6.1.22', 'ec:3.6.1.9', 'ec:6.3.1.5', 'ec:7.1.1.1', 'ec:1.6.1.1', 'ec:1.13.11.9', 'ec:1.2.1.83', 'ec:1.4.3.16', 'ec:2.7.7.18', 'ec:1.14.13.114', 'ec:1.17.2.1', 'ec:2.5.1.72'], 'ec00920': ['ec:1.14.13.131', 'ec:2.7.1.25', 'ec:2.3.1.30', 'ec:2.5.1.47', 'ec:1.8.1.2', 'ec:7.3.2.3', 'ec:1.8.99.2', 'ec:1.14.14.5', 'ec:2.3.1.46', 'ec:2.8.1.1', 'ec:1.14.14.35', 'ec:7.6.2.7', 'ec:2.7.7.4', 'ec:3.1.3.7', 'ec:2.1.1.334'], 'ec01120': ['ec:2.6.1.1', 'ec:5.4.99.2', 'ec:2.7.9.2', 'ec:3.5.3.4', 'ec:2.7.1.25', 'ec:2.7.1.202', 'ec:1.14.13.127', 'ec:1.2.1.19', 'ec:4.2.1.84', 'ec:2.7.2.2', 'ec:4.1.1.97', 'ec:1.7.1.15', 'ec:2.3.1.16', 'ec:5.2.1.1', 'ec:2.3.1.117', 'ec:3.5.1.106', 'ec:2.7.9.1', 'ec:1.4.3.5', 'ec:1.2.1.3', 'ec:3.7.1.22', 'ec:4.1.1.31', 'ec:1.1.2.7', 'ec:2.7.1.12', 'ec:1.8.1.4', 'ec:1.1.1.2', 'ec:1.13.11.1', 'ec:6.3.4.3', 'ec:1.1.1.343', 'ec:1.4.1.2', 'ec:2.3.1.30', 'ec:4.3.3.7', 'ec:4.1.3.1', 'ec:1.4.1.4', 'ec:2.8.3.22', 'ec:1.13.11.2', 'ec:3.1.1.31', 'ec:1.13.11.5', 'ec:2.5.1.47', 'ec:4.2.3.1', 'ec:5.1.3.15', 'ec:2.3.1.61', 'ec:1.14.14.9', 'ec:3.5.1.4', 'ec:5.3.2.6', 'ec:1.1.1.18', 'ec:3.5.2.17', 'ec:1.8.1.2', 'ec:5.4.3.8', 'ec:4.1.2.14', 'ec:3.11.1.1', 'ec:1.1.99.3', 'ec:1.14.12.1', 'ec:1.7.2.1', 'ec:4.2.1.103', 'ec:1.7.1.1', 'ec:1.2.1.16', 'ec:3.5.1.5', 'ec:2.2.1.1', 'ec:2.2.1.2', 'ec:6.2.1.41', 'ec:2.7.2.3', 'ec:1.8.99.2', 'ec:3.5.4.27', 'ec:4.1.2.48', 'ec:2.7.6.1', 'ec:2.3.1.174', 'ec:2.6.1.2', 'ec:2.7.1.2', 'ec:3.5.4.9', 'ec:5.3.1.25', 'ec:4.4.1.22', 'ec:3.5.1.107', 'ec:4.2.1.112', 'ec:2.3.3.9', 'ec:1.2.1.12', 'ec:2.3.1.9', 'ec:1.1.1.3', 'ec:2.1.2.1', 'ec:3.7.1.2', 'ec:1.2.1.96', 'ec:4.1.2.13', 'ec:2.5.1.61', 'ec:2.7.1.165', 'ec:5.3.1.6', 'ec:2.6.1.52', 'ec:4.2.1.24', 'ec:6.3.1.2', 'ec:1.1.1.37', 'ec:2.8.1.1', 'ec:6.2.1.5', 'ec:2.3.1.8', 'ec:1.1.1.35', 'ec:1.2.4.1', 'ec:5.3.3.10', 'ec:1.1.5.4', 'ec:1.1.1.40', 'ec:1.2.1.70', 'ec:1.2.1.11', 'ec:1.7.2.2', 'ec:2.7.1.39', 'ec:1.1.2.8', 'ec:2.8.3.6', 'ec:1.1.1.44', 'ec:4.2.1.75', 'ec:3.1.3.11', 'ec:4.2.1.2', 'ec:3.1.2.12', 'ec:2.7.7.4', 'ec:5.5.1.1', 'ec:1.14.13.2', 'ec:1.13.11.9', 'ec:3.1.3.3', 'ec:4.1.1.49', 'ec:1.3.8.6', 'ec:1.1.1.122', 'ec:3.1.3.7', 'ec:4.1.2.52', 'ec:2.7.1.45', 'ec:5.3.1.9', 'ec:5.5.1.2', 'ec:4.1.1.44', 'ec:1.7.3.3', 'ec:4.1.1.39', 'ec:5.3.1.1', 'ec:1.17.1.8', 'ec:3.3.2.10', 'ec:1.4.1.13', 'ec:1.3.1.76', 'ec:2.6.1.48', 'ec:5.3.3.4', 'ec:5.1.1.7', 'ec:1.2.1.83', 'ec:1.1.1.49', 'ec:4.2.1.17', 'ec:1.7.1.4', 'ec:1.13.11.3', 'ec:1.1.1.42', 'ec:1.7.5.1', 'ec:2.3.1.12', 'ec:1.14.13.114', 'ec:4.2.1.12', 'ec:1.17.2.1', 'ec:2.7.2.4', 'ec:1.5.1.20', 'ec:1.14.13.59', 'ec:1.3.8.1', 'ec:2.6.1.37', 'ec:2.3.1.101'], 'ec00710': ['ec:2.6.1.1', 'ec:2.7.9.1', 'ec:4.1.1.31', 'ec:2.2.1.1', 'ec:2.7.2.3', 'ec:2.6.1.2', 'ec:1.2.1.12', 'ec:4.1.2.13', 'ec:5.3.1.6', 'ec:1.1.1.37', 'ec:1.1.1.40', 'ec:3.1.3.11', 'ec:4.1.1.49', 'ec:4.1.1.39', 'ec:5.3.1.1'], 'ec00250': ['ec:2.6.1.1', 'ec:4.3.2.1', 'ec:6.3.4.5', 'ec:1.4.1.2', 'ec:1.4.1.4', 'ec:5.1.1.13', 'ec:1.2.1.16', 'ec:2.6.1.2', 'ec:6.3.1.2', 'ec:3.5.1.2', 'ec:6.3.5.5', 'ec:2.6.1.16', 'ec:1.4.1.13', 'ec:6.3.4.4', 'ec:1.4.3.16', 'ec:4.3.2.2'], 'ec00270': ['ec:2.6.1.1', 'ec:1.13.11.54', 'ec:2.5.1.49', 'ec:2.3.1.30', 'ec:2.5.1.6', 'ec:2.5.1.47', 'ec:2.6.1.42', 'ec:4.4.1.15', 'ec:6.3.2.3', 'ec:2.1.1.37', 'ec:1.1.1.3', 'ec:2.3.1.31', 'ec:4.3.1.17', 'ec:2.6.1.52', 'ec:2.3.1.46', 'ec:1.1.1.37', 'ec:2.8.1.2', 'ec:1.2.1.11', 'ec:1.13.11.20', 'ec:6.3.2.2', 'ec:1.8.4.14', 'ec:2.7.2.4'], 'ec00220': ['ec:2.6.1.1', 'ec:2.1.3.3', 'ec:4.3.2.1', 'ec:2.7.2.2', 'ec:6.3.4.5', 'ec:1.2.1.38', 'ec:1.4.1.2', 'ec:1.4.1.4', 'ec:3.5.3.6', 'ec:3.5.1.5', 'ec:2.6.1.2', 'ec:2.3.1.1', 'ec:2.7.2.8', 'ec:6.3.1.2', 'ec:3.5.1.2', 'ec:2.6.1.11'], 'ec00330': ['ec:2.6.1.1', 'ec:6.3.1.11', 'ec:1.2.1.19', 'ec:2.6.1.113', 'ec:1.2.1.41', 'ec:2.3.1.109', 'ec:2.7.2.11', 'ec:1.2.1.3', 'ec:4.1.1.17', 'ec:3.5.1.4', 'ec:3.5.1.96', 'ec:4.1.1.19', 'ec:3.5.3.23', 'ec:3.5.3.12', 'ec:2.6.1.13', 'ec:3.5.3.7'], 'ec00350': ['ec:2.6.1.1', 'ec:1.13.11.5', 'ec:1.14.14.9', 'ec:1.2.1.16', 'ec:3.7.1.2', 'ec:5.3.3.10', 'ec:1.13.11.27', 'ec:4.1.2.52', 'ec:2.6.1.9'], 'ec00360': ['ec:2.6.1.1', 'ec:1.14.13.127', 'ec:4.3.1.24', 'ec:3.5.1.4', 'ec:1.14.16.1', 'ec:2.3.1.174', 'ec:1.13.11.27', 'ec:4.2.1.17', 'ec:2.6.1.9'], 'ec00400': ['ec:2.6.1.1', 'ec:4.2.1.51', 'ec:1.1.5.8', 'ec:1.1.1.25', 'ec:4.2.1.10', 'ec:1.14.16.1', 'ec:2.4.2.18', 'ec:2.7.1.71', 'ec:4.2.3.4', 'ec:2.5.1.19', 'ec:4.2.1.20', 'ec:4.1.1.48', 'ec:5.3.1.24', 'ec:4.1.3.27', 'ec:4.2.3.5', 'ec:2.5.1.54', 'ec:2.6.1.9'], 'ec00950': ['ec:2.6.1.1'], 'ec00960': ['ec:2.6.1.1', 'ec:2.3.1.74', 'ec:2.6.1.9'], 'ec00401': ['ec:2.6.1.1', 'ec:2.6.1.9'], 'ec00630': ['ec:5.4.99.2', 'ec:1.1.1.60', 'ec:1.1.1.81', 'ec:4.1.3.1', 'ec:5.3.1.22', 'ec:4.1.1.8', 'ec:2.3.3.9', 'ec:2.3.1.9', 'ec:2.1.2.1', 'ec:3.5.1.9', 'ec:2.7.1.165', 'ec:6.3.1.2', 'ec:1.1.1.37', 'ec:1.11.1.6', 'ec:4.1.1.47', 'ec:2.7.1.31', 'ec:4.1.1.39', 'ec:3.5.1.10'], 'ec00640': ['ec:5.4.99.2', 'ec:1.8.1.4', 'ec:4.1.3.30', 'ec:1.2.4.4', 'ec:2.6.1.18', 'ec:1.1.1.6', 'ec:6.2.1.5', 'ec:2.3.1.8', 'ec:3.1.2.4', 'ec:4.2.1.17', 'ec:1.3.8.1'], 'ec00720': ['ec:5.4.99.2', 'ec:2.7.9.2', 'ec:2.7.9.1', 'ec:4.1.1.31', 'ec:6.3.4.3', 'ec:2.8.3.22', 'ec:3.5.4.9', 'ec:2.3.1.9', 'ec:1.1.1.37', 'ec:6.2.1.5', 'ec:2.3.1.8', 'ec:1.1.1.35', 'ec:4.2.1.2', 'ec:4.2.1.17', 'ec:1.1.1.42'], 'ec00280': ['ec:5.4.99.2', 'ec:2.8.3.5', 'ec:2.3.1.16', 'ec:1.2.1.3', 'ec:1.8.1.4', 'ec:6.2.1.16', 'ec:1.2.4.4', 'ec:1.3.8.5', 'ec:2.6.1.42', 'ec:2.6.1.18', 'ec:2.3.1.9', 'ec:4.2.1.18', 'ec:6.4.1.4', 'ec:1.1.1.35', 'ec:3.1.2.4', 'ec:1.1.1.31', 'ec:4.2.1.17', 'ec:1.3.8.4', 'ec:1.3.8.1'], 'ec00310': ['ec:1.14.11.1', 'ec:1.2.1.19', 'ec:1.2.1.3', 'ec:1.8.1.4', 'ec:2.3.1.61', 'ec:2.3.1.9', 'ec:1.1.1.35', 'ec:1.3.8.6', 'ec:2.6.1.48', 'ec:4.2.1.17'], 'ec00010': ['ec:2.7.9.2', 'ec:2.7.9.1', 'ec:1.2.1.3', 'ec:1.1.2.7', 'ec:1.8.1.4', 'ec:1.1.1.2', 'ec:5.1.3.15', 'ec:2.7.2.3', 'ec:2.7.1.2', 'ec:1.2.1.12', 'ec:4.1.2.13', 'ec:1.2.4.1', 'ec:1.1.2.8', 'ec:3.1.3.11', 'ec:4.1.1.49', 'ec:5.3.1.9', 'ec:5.3.1.1', 'ec:2.3.1.12'], 'ec00620': ['ec:2.7.9.2', 'ec:3.1.2.6', 'ec:2.7.9.1', 'ec:1.2.1.3', 'ec:4.1.1.31', 'ec:1.1.2.7', 'ec:1.8.1.4', 'ec:1.1.1.2', 'ec:4.1.1.112', 'ec:2.3.3.9', 'ec:2.3.3.13', 'ec:2.3.1.9', 'ec:1.2.99.6', 'ec:1.1.1.37', 'ec:2.3.1.8', 'ec:1.2.4.1', 'ec:1.1.5.4', 'ec:1.1.1.40', 'ec:1.1.2.8', 'ec:4.2.1.2', 'ec:4.1.1.49', 'ec:2.3.1.12', 'ec:4.4.1.5'], 'ec00680': ['ec:2.7.9.2', 'ec:4.1.1.31', 'ec:1.1.2.7', 'ec:3.5.4.27', 'ec:4.4.1.22', 'ec:2.1.2.1', 'ec:4.1.2.13', 'ec:2.7.1.165', 'ec:2.6.1.52', 'ec:1.1.1.37', 'ec:2.3.1.8', 'ec:3.1.3.11', 'ec:3.1.2.12', 'ec:3.1.3.3', 'ec:2.3.1.101'], 'ec00900': ['ec:5.3.3.2', 'ec:2.5.1.31', 'ec:1.17.7.4', 'ec:2.3.1.9', 'ec:2.5.1.87', 'ec:2.7.7.60', 'ec:1.17.7.3', 'ec:2.2.1.7', 'ec:4.6.1.12'], 'ec00340': ['ec:5.3.1.16', 'ec:3.5.2.7', 'ec:1.2.1.3', 'ec:3.5.4.19', 'ec:4.2.1.19', 'ec:1.1.1.23', 'ec:3.6.1.31', 'ec:4.3.1.3', 'ec:4.3.2.10', 'ec:3.1.3.15', 'ec:2.4.2.17', 'ec:4.2.1.49', 'ec:2.6.1.9'], 'ec00030': ['ec:2.7.4.23', 'ec:2.7.1.12', 'ec:1.1.1.343', 'ec:3.1.1.31', 'ec:4.3.1.9', 'ec:4.1.2.14', 'ec:1.1.99.3', 'ec:2.2.1.1', 'ec:2.2.1.2', 'ec:2.7.6.1', 'ec:4.1.2.13', 'ec:2.7.1.165', 'ec:5.3.1.6', 'ec:1.1.1.44', 'ec:3.1.3.11', 'ec:2.7.1.15', 'ec:2.7.1.45', 'ec:5.3.1.9', 'ec:1.1.1.49', 'ec:4.2.1.12'], 'ec00290': ['ec:4.2.1.9', 'ec:2.6.1.42', 'ec:2.3.3.13', 'ec:2.2.1.6', 'ec:1.1.1.86', 'ec:4.2.1.33', 'ec:1.1.1.85', 'ec:4.3.1.19'], 'ec00770': ['ec:4.2.1.9', 'ec:1.2.1.3', 'ec:2.7.1.33', 'ec:2.7.7.3', 'ec:3.5.2.2', 'ec:2.6.1.42', 'ec:1.1.1.169', 'ec:2.2.1.6', 'ec:2.7.8.7', 'ec:6.3.2.1', 'ec:3.6.1.9', 'ec:1.1.1.86', 'ec:2.1.2.11', 'ec:2.7.1.24'], 'ec00480': ['ec:2.5.1.18', 'ec:3.4.11.2', 'ec:4.1.1.17', 'ec:3.5.2.9', 'ec:1.8.1.7', 'ec:6.3.2.3', 'ec:1.1.1.44', 'ec:6.3.2.2', 'ec:1.11.1.9', 'ec:1.1.1.49', 'ec:1.1.1.42'], 'ec00980': ['ec:2.5.1.18'], 'ec00982': ['ec:2.5.1.18'], 'ec00983': ['ec:2.5.1.18', 'ec:6.3.5.2', 'ec:3.5.2.2', 'ec:3.6.1.23', 'ec:3.6.1.66', 'ec:2.4.2.10', 'ec:2.7.4.6', 'ec:3.5.4.5', 'ec:2.1.1.67'], 'ec00730': ['ec:2.5.1.3', 'ec:3.1.3.1', 'ec:3.5.99.2', 'ec:2.8.1.4', 'ec:2.8.1.7', 'ec:2.7.4.3', 'ec:2.2.1.7', 'ec:2.7.1.50', 'ec:4.1.99.17', 'ec:2.8.1.10'], 'ec00940': ['ec:1.11.1.7', 'ec:1.2.1.68', 'ec:4.3.1.24', 'ec:1.1.1.195', 'ec:2.1.1.104'], 'ec00230': ['ec:3.5.3.4', 'ec:4.3.2.3', 'ec:2.7.1.25', 'ec:6.3.5.2', 'ec:2.7.2.2', 'ec:4.1.1.97', 'ec:3.5.4.3', 'ec:3.2.2.4', 'ec:3.6.1.8', 'ec:6.3.5.3', 'ec:3.1.3.5', 'ec:3.1.4.53', 'ec:3.5.2.17', 'ec:3.6.1.11', 'ec:3.5.1.5', 'ec:3.6.1.66', 'ec:2.7.6.1', 'ec:2.4.2.7', 'ec:5.4.99.18', 'ec:2.1.2.3', 'ec:3.6.1.41', 'ec:2.7.4.3', 'ec:3.6.1.9', 'ec:2.7.4.6', 'ec:6.3.4.13', 'ec:2.7.7.4', 'ec:6.3.3.1', 'ec:2.7.4.8', 'ec:4.6.1.1', 'ec:1.7.3.3', 'ec:6.3.4.18', 'ec:2.4.2.22', 'ec:6.3.4.4', 'ec:3.5.4.2', 'ec:6.3.2.6', 'ec:4.3.2.2'], 'ec00500': ['ec:2.7.7.33', 'ec:5.4.99.16', 'ec:3.2.1.2', 'ec:2.4.1.21', 'ec:2.7.7.27', 'ec:2.7.1.175', 'ec:2.4.99.16', 'ec:2.4.1.25', 'ec:2.7.1.2', 'ec:3.2.1.91', 'ec:3.2.1.141', 'ec:2.4.1.18', 'ec:3.2.1.10', 'ec:3.6.1.9', 'ec:3.2.1.21', 'ec:2.4.1.1', 'ec:3.2.1.4', 'ec:2.7.7.9', 'ec:2.7.1.201', 'ec:5.3.1.9', 'ec:3.2.1.93'], 'ec00520': ['ec:2.7.7.33', 'ec:1.3.1.98', 'ec:5.3.1.8', 'ec:2.7.1.221', 'ec:5.1.3.2', 'ec:5.4.2.8', 'ec:1.1.1.132', 'ec:2.3.1.4', 'ec:2.7.7.99', 'ec:2.7.7.27', 'ec:2.5.1.7', 'ec:1.1.1.22', 'ec:4.2.1.45', 'ec:2.7.1.2', 'ec:3.13.1.1', 'ec:3.2.1.55', 'ec:5.1.3.9', 'ec:5.4.2.10', 'ec:2.7.7.9', 'ec:3.1.3.105', 'ec:2.6.1.16', 'ec:5.3.1.9', 'ec:2.7.1.170', 'ec:3.2.1.52', 'ec:3.5.1.25'], 'ec00541': ['ec:2.7.7.33', 'ec:5.3.1.8', 'ec:5.1.3.2', 'ec:5.4.2.8', 'ec:1.1.1.22', 'ec:4.2.1.45', 'ec:5.1.3.13', 'ec:1.1.1.367', 'ec:4.2.1.46', 'ec:2.7.7.9'], 'ec00523': ['ec:4.2.1.164', 'ec:5.1.3.13', 'ec:4.2.1.46'], 'ec00061': ['ec:2.3.1.41', 'ec:2.3.1.179', 'ec:4.2.1.59', 'ec:1.3.1.9', 'ec:1.1.1.100', 'ec:2.3.1.39', 'ec:6.2.1.3'], 'ec00780': ['ec:2.3.1.41', 'ec:2.6.1.62', 'ec:2.3.1.179', 'ec:4.2.1.59', 'ec:6.3.4.15', 'ec:1.1.1.100', 'ec:2.3.1.47'], 'ec00860': ['ec:2.1.1.152', 'ec:4.1.1.81', 'ec:2.4.2.21', 'ec:4.1.1.111', 'ec:1.3.98.3', 'ec:5.4.3.8', 'ec:1.14.99.58', 'ec:2.5.1.17', 'ec:6.6.1.1', 'ec:6.3.5.9', 'ec:2.1.1.131', 'ec:2.5.1.61', 'ec:4.2.1.24', 'ec:2.1.1.130', 'ec:2.5.1.141', 'ec:1.2.1.70', 'ec:2.3.1.37', 'ec:4.1.1.37', 'ec:2.1.1.132', 'ec:4.2.1.75', 'ec:6.6.1.2', 'ec:5.4.99.61', 'ec:1.3.3.3', 'ec:1.16.3.1', 'ec:1.3.1.76', 'ec:2.7.8.26', 'ec:2.1.1.133'], 'ec00790': ['ec:3.1.3.1', 'ec:3.5.4.25', 'ec:4.1.2.50', 'ec:2.7.6.3', 'ec:2.10.1.1', 'ec:1.14.16.1', 'ec:4.1.3.38', 'ec:2.8.1.12', 'ec:4.2.1.96', 'ec:2.7.7.77', 'ec:1.7.1.13', 'ec:2.5.1.15', 'ec:2.6.1.85', 'ec:1.5.1.3', 'ec:3.5.4.16'], 'ec00550': ['ec:2.5.1.31', 'ec:1.3.1.98', 'ec:6.3.2.4', 'ec:2.4.1.227', 'ec:6.3.2.8', 'ec:2.5.1.7', 'ec:6.3.2.9', 'ec:3.4.16.4', 'ec:3.6.1.27'], 'ec00540': ['ec:5.3.1.28', 'ec:3.1.3.45', 'ec:2.5.1.55', 'ec:3.6.1.54', 'ec:5.3.1.13', 'ec:2.4.2.43', 'ec:2.4.1.182', 'ec:2.7.1.130', 'ec:2.4.99.12', 'ec:2.7.7.38'], 'ec00071': ['ec:1.18.1.1', 'ec:2.3.1.16', 'ec:1.2.1.3', 'ec:1.3.8.5', 'ec:1.3.8.8', 'ec:2.3.1.9', 'ec:5.3.3.8', 'ec:1.18.1.3', 'ec:1.1.1.35', 'ec:1.3.8.6', 'ec:1.14.15.3', 'ec:6.2.1.3', 'ec:4.2.1.17', 'ec:1.3.8.1'], 'ec00130': ['ec:4.1.3.40', 'ec:1.14.13.240', 'ec:1.14.99.60', 'ec:1.6.5.2', 'ec:2.5.1.74', 'ec:4.1.1.98', 'ec:2.5.1.39', 'ec:1.13.11.27'], 'ec00590': ['ec:1.14.99.1', 'ec:3.3.2.10'], 'ec00051': ['ec:2.7.1.202', 'ec:5.3.1.8', 'ec:5.4.2.8', 'ec:1.1.1.132', 'ec:4.2.2.3', 'ec:5.3.1.25', 'ec:5.1.3.37', 'ec:4.1.2.13', 'ec:5.3.1.6', 'ec:2.4.1.33', 'ec:3.1.3.11', 'ec:1.1.1.122', 'ec:5.3.1.1'], 'ec00650': ['ec:2.8.3.5', 'ec:4.1.1.5', 'ec:5.2.1.1', 'ec:6.2.1.16', 'ec:1.1.1.304', 'ec:1.2.1.16', 'ec:2.3.1.9', 'ec:2.2.1.6', 'ec:4.1.1.4', 'ec:1.1.1.35', 'ec:4.2.1.17', 'ec:6.2.1.2', 'ec:1.3.8.1'], 'ec00740': ['ec:3.5.4.25', 'ec:1.5.1.42', 'ec:1.13.11.79', 'ec:2.5.1.9', 'ec:1.5.1.38', 'ec:2.7.7.2', 'ec:2.5.1.78', 'ec:2.7.1.26', 'ec:3.6.1.9', 'ec:2.5.1.129', 'ec:4.1.99.12', 'ec:1.5.1.36'], 'ec00410': ['ec:1.2.1.19', 'ec:1.2.1.3', 'ec:3.5.2.2', 'ec:2.6.1.18', 'ec:6.3.2.1', 'ec:3.1.2.4', 'ec:4.2.1.17', 'ec:1.3.8.1'], 'ec00380': ['ec:4.2.1.84', 'ec:1.2.1.3', 'ec:1.8.1.4', 'ec:1.13.12.3', 'ec:2.3.1.61', 'ec:3.5.1.4', 'ec:2.3.1.9', 'ec:1.13.11.11', 'ec:3.5.1.9', 'ec:1.11.1.6', 'ec:1.1.1.35', 'ec:1.3.8.6', 'ec:3.7.1.3', 'ec:4.2.1.17'], 'ec00627': ['ec:4.2.1.84', 'ec:3.5.1.4', 'ec:1.14.12.1', 'ec:4.2.1.17'], 'ec00364': ['ec:4.2.1.84', 'ec:1.13.11.1', 'ec:5.5.1.1'], 'ec00643': ['ec:4.2.1.84', 'ec:1.13.11.2', 'ec:1.13.11.5', 'ec:3.5.1.4', 'ec:3.7.1.2'], 'ec00660': ['ec:4.1.1.5', 'ec:2.8.3.22', 'ec:5.3.3.7', 'ec:2.2.1.6', 'ec:6.2.1.5', 'ec:1.1.1.85'], 'ec00332': ['ec:1.2.1.41', 'ec:2.7.2.11'], 'ec00910': ['ec:2.7.2.2', 'ec:1.7.1.15', 'ec:1.4.1.2', 'ec:1.4.1.4', 'ec:4.2.1.1', 'ec:1.7.2.1', 'ec:1.7.1.1', 'ec:6.3.1.2', 'ec:1.7.2.2', 'ec:1.4.1.13', 'ec:4.2.1.104', 'ec:1.7.1.4', 'ec:1.7.5.1'], 'ec00052': ['ec:4.1.2.21', 'ec:5.1.3.2', 'ec:2.7.1.2', 'ec:3.2.1.10', 'ec:2.7.1.58', 'ec:2.7.7.9', 'ec:3.2.1.23', 'ec:3.5.1.25'], 'ec00404': ['ec:2.1.1.164'], 'ec00260': ['ec:1.5.3.1', 'ec:1.8.1.4', 'ec:1.1.1.81', 'ec:4.2.3.1', 'ec:2.1.2.10', 'ec:1.2.1.8', 'ec:4.1.2.48', 'ec:1.1.1.3', 'ec:2.1.2.1', 'ec:4.3.1.17', 'ec:2.7.1.165', 'ec:2.6.1.52', 'ec:4.2.1.20', 'ec:2.3.1.37', 'ec:1.2.1.11', 'ec:2.7.1.39', 'ec:2.7.1.31', 'ec:1.4.4.2', 'ec:3.1.3.3', 'ec:2.7.2.4', 'ec:4.3.1.19'], 'ec00062': ['ec:2.3.1.16', 'ec:2.3.1.199', 'ec:4.2.1.134', 'ec:1.1.1.35', 'ec:4.2.1.17'], 'ec00592': ['ec:2.3.1.16', 'ec:3.1.1.32', 'ec:4.2.1.17'], 'ec01040': ['ec:2.3.1.16', 'ec:2.3.1.199', 'ec:4.2.1.134'], 'ec00907': ['ec:2.3.1.16', 'ec:1.1.1.35', 'ec:4.2.1.17'], 'ec00362': ['ec:2.3.1.16', 'ec:1.13.11.1', 'ec:1.13.11.2', 'ec:5.3.2.6', 'ec:2.3.1.174', 'ec:2.3.1.9', 'ec:1.1.1.35', 'ec:2.8.3.6', 'ec:5.5.1.1', 'ec:1.14.13.2', 'ec:1.3.8.6', 'ec:5.5.1.2', 'ec:4.1.1.44', 'ec:5.3.3.4', 'ec:4.2.1.17', 'ec:1.13.11.3'], 'ec00642': ['ec:2.3.1.16'], 'ec00300': ['ec:2.3.1.117', 'ec:4.3.3.7', 'ec:1.1.1.3', 'ec:1.2.1.11', 'ec:1.17.1.8', 'ec:5.1.1.7', 'ec:2.7.2.4'], 'ec00470': ['ec:6.3.2.4', 'ec:1.4.99.6', 'ec:5.1.1.13', 'ec:1.2.1.26', 'ec:4.4.1.15', 'ec:5.1.1.1', 'ec:6.3.2.9', 'ec:1.4.1.25', 'ec:6.1.1.13', 'ec:3.5.1.2', 'ec:5.1.1.3', 'ec:5.1.1.7'], 'ec00750': ['ec:1.4.3.5', 'ec:1.1.1.290', 'ec:1.2.1.72', 'ec:4.2.3.1', 'ec:1.1.1.262', 'ec:2.6.99.2', 'ec:2.6.1.52', 'ec:2.7.1.35'], 'ec00053': ['ec:1.2.1.3', 'ec:1.1.1.2', 'ec:1.2.1.26', 'ec:1.1.1.22', 'ec:4.2.1.41', 'ec:1.1.1.203', 'ec:1.1.1.122'], 'ec00981': ['ec:1.2.1.3'], 'ec00903': ['ec:1.2.1.3'], 'ec00625': ['ec:1.2.1.3', 'ec:1.1.2.7', 'ec:4.2.1.112', 'ec:1.1.2.8', 'ec:3.3.2.10'], 'ec00562': ['ec:3.7.1.22', 'ec:1.1.1.18', 'ec:3.1.3.25', 'ec:5.3.1.1', 'ec:2.7.1.159'], 'ec00020': ['ec:1.8.1.4', 'ec:2.3.1.61', 'ec:1.1.1.37', 'ec:6.2.1.5', 'ec:1.2.4.1', 'ec:1.1.5.4', 'ec:4.2.1.2', 'ec:4.1.1.49', 'ec:1.1.1.42', 'ec:2.3.1.12'], 'ec00785': ['ec:1.8.1.4', 'ec:1.2.4.4', 'ec:2.3.1.61', 'ec:2.3.1.181', 'ec:2.1.2.10', 'ec:1.2.4.1', 'ec:1.4.4.2', 'ec:2.3.1.12'], 'ec00040': ['ec:1.1.1.2', 'ec:3.2.1.15', 'ec:1.2.1.26', 'ec:1.1.1.22', 'ec:2.7.7.9', 'ec:2.7.1.17', 'ec:3.1.1.11', 'ec:4.2.2.2'], 'ec00930': ['ec:1.1.1.2', 'ec:4.2.1.103', 'ec:1.1.1.35', 'ec:1.14.15.3', 'ec:4.2.1.17'], 'ec00361': ['ec:1.13.11.1', 'ec:1.13.11.2', 'ec:5.5.1.1'], 'ec00623': ['ec:1.13.11.1', 'ec:1.2.1.96', 'ec:5.5.1.1'], 'ec00430': ['ec:1.1.1.313', 'ec:1.4.1.2', 'ec:2.3.1.8', 'ec:1.13.11.20'], 'ec00670': ['ec:6.3.4.3', 'ec:2.1.2.9', 'ec:2.1.2.10', 'ec:2.1.1.45', 'ec:3.5.4.9', 'ec:2.1.2.1', 'ec:2.1.2.3', 'ec:1.5.1.3', 'ec:1.5.1.20', 'ec:3.5.1.10'], 'ec00999': ['ec:1.1.1.25', 'ec:2.5.1.6', 'ec:3.2.1.21'], 'ec00998': ['ec:2.3.1.30'], 'ec00261': ['ec:4.3.3.7', 'ec:1.2.1.11', 'ec:2.7.7.4', 'ec:1.17.1.8', 'ec:2.7.2.4'], 'ec00190': ['ec:2.7.4.1', 'ec:3.6.1.1', 'ec:7.1.2.2', 'ec:7.1.1.9', 'ec:7.1.1.8', 'ec:7.1.1.2'], 'ec00240': ['ec:3.1.3.5', 'ec:3.5.2.2', 'ec:3.5.2.3', 'ec:2.7.4.22', 'ec:3.6.1.23', 'ec:2.4.2.9', 'ec:2.1.1.45', 'ec:2.7.4.9', 'ec:3.5.4.13', 'ec:1.3.5.2', 'ec:2.4.2.10', 'ec:4.1.1.23', 'ec:3.6.1.9', 'ec:6.3.5.5', 'ec:2.7.4.6', 'ec:3.5.4.5', 'ec:6.3.4.2', 'ec:1.3.1.14', 'ec:2.7.4.25'], 'ec00622': ['ec:1.13.11.2', 'ec:5.3.2.6'], 'ec00450': ['ec:6.1.1.10', 'ec:1.8.1.9', 'ec:2.7.7.4', 'ec:2.7.9.3'], 'ec00966': ['ec:2.6.1.42', 'ec:2.6.1.88'], 'ec00621': ['ec:5.3.2.6'], 'ec00521': ['ec:1.1.1.18', 'ec:5.1.3.13', 'ec:2.7.1.2', 'ec:3.1.3.25', 'ec:4.2.1.46'], 'ec00440': ['ec:3.11.1.1', 'ec:2.6.1.37'], 'ec00531': ['ec:3.2.1.35', 'ec:3.2.1.23', 'ec:3.2.1.52'], 'ec00791': ['ec:3.5.1.5'], 'ec00945': ['ec:2.1.1.104'], 'ec00941': ['ec:2.1.1.104', 'ec:2.3.1.74'], 'ec01051': ['ec:2.2.1.1'], 'ec00984': ['ec:6.2.1.41'], 'ec00524': ['ec:2.7.1.2'], 'ec00460': ['ec:2.1.2.1', 'ec:3.2.1.21'], 'ec00908': ['ec:2.5.1.75'], 'ec00552': ['ec:6.1.1.13', 'ec:3.6.1.27'], 'ec00600': ['ec:3.2.1.45', 'ec:3.2.1.23', 'ec:3.2.1.52'], 'ec00511': ['ec:3.2.1.45', 'ec:3.2.1.23', 'ec:3.2.1.52'], 'ec00100': ['ec:1.14.14.17'], 'ec00909': ['ec:1.14.14.17'], 'ec01055': ['ec:4.2.1.46'], 'ec00525': ['ec:4.2.1.46'], 'ec00946': ['ec:3.2.1.21'], 'ec00195': ['ec:1.18.1.2', 'ec:7.1.2.2'], 'ec00405': ['ec:4.1.3.27'], 'ec00232': ['ec:1.7.3.3'], 'ec00624': ['ec:1.13.11.3'], 'ec00311': ['ec:3.5.2.6'], 'ec00604': ['ec:3.2.1.23', 'ec:3.2.1.52'], 'ec00513': ['ec:3.2.1.52'], 'ec00603': ['ec:3.2.1.52'], 'ec00515': ['ec:2.4.1.109'], 'ec00514': ['ec:2.4.1.109'], 'ec00997': ['ec:1.14.13.59']}\n"
     ]
    }
   ],
   "source": [
    "present_enzymes = list(set(deepec_df['prediction']))\n",
    "for ec in present_enzymes:\n",
    "    find_pathways_opt(ec, ec_pathways_dict)\n",
    "print(ec_pathways_dict)"
   ]
  },
  {
   "cell_type": "code",
   "execution_count": 86,
   "metadata": {},
   "outputs": [],
   "source": [
    "# TODO: create a dictionary with keys as pathway and values as enzymes present in deep_ec_df['prediction']\n",
    "completeness = {}\n",
    "present_enzymes = list(set(deepec_df['prediction']))"
   ]
  },
  {
   "cell_type": "code",
   "execution_count": 87,
   "metadata": {},
   "outputs": [],
   "source": [
    "# from Bio.KEGG.REST import kegg_link\n",
    "import re\n",
    "# Note: some ecs don't have a corresponding pathway such as ec:1.4.3.11\n",
    "# calculate_pathway_completeness(\"ec00300\", ec_pathways_dict)\n",
    "\n",
    "# now we can calculate pathway completeness\n",
    "def calculate_pathway_completeness(pathway_of_interest, ec_pathways):\n",
    "    if pathway_of_interest not in ec_pathways:\n",
    "        print(f\"Pathway {pathway_of_interest} not present in dictionary.\")\n",
    "        return\n",
    "    if pathway_of_interest not in list(paths_to_ec_df['pathway']):\n",
    "        print(f\"Pathway {pathway_of_interest} not present in DataFrame.\") \n",
    "        return\n",
    "    \n",
    "    # Get the list of EC numbers involved in the pathway of interest\n",
    "    total_enzymes = set(get_enzymes(pathway_of_interest, paths_to_ec_df))\n",
    "    present_enzymes = list(set(ec_pathways[pathway_of_interest]))\n",
    "    # print(present_enzymes)\n",
    "    \n",
    "    try:\n",
    "        completeness = len(present_enzymes) / len(total_enzymes)\n",
    "        return completeness\n",
    "    except ZeroDivisionError as e:\n",
    "        print(pathway_of_interest)\n",
    "        print(\"division by zero, is the pathway of interest formatted correctly? (eg. 'ec00300')\")\n",
    "        return\n",
    "\n",
    "# brute force\n",
    "def calculate_all_paths_completeness(ec_pathways_dict):\n",
    "    pathway_completeness = {}\n",
    "    for path in ec_pathways_dict:\n",
    "        if path not in pathway_completeness:\n",
    "            pathway_completeness[path] = calculate_pathway_completeness(path, ec_pathways_dict)\n",
    "    return pathway_completeness\n",
    "\n",
    "completeness = calculate_all_paths_completeness(ec_pathways_dict)"
   ]
  },
  {
   "cell_type": "code",
   "execution_count": 88,
   "metadata": {},
   "outputs": [
    {
     "name": "stdout",
     "output_type": "stream",
     "text": [
      "0.24719101123595505\n"
     ]
    }
   ],
   "source": [
    "ec00270 = calculate_pathway_completeness(\"ec00270\", ec_pathways_dict)\n",
    "print(ec00270)"
   ]
  },
  {
   "cell_type": "code",
   "execution_count": 89,
   "metadata": {},
   "outputs": [],
   "source": [
    "# convert completeness to a dataframe which we can export as a csv\n",
    "completeness_df = pd.DataFrame(list(completeness.items()), columns=['pathway', 'completeness'])\n",
    "completeness_df.to_csv(os.path.join(parent_dir, \"output/321846_pathway_completeness.csv\"), index=False)"
   ]
  }
 ],
 "metadata": {
  "kernelspec": {
   "display_name": "base",
   "language": "python",
   "name": "python3"
  },
  "language_info": {
   "codemirror_mode": {
    "name": "ipython",
    "version": 3
   },
   "file_extension": ".py",
   "mimetype": "text/x-python",
   "name": "python",
   "nbconvert_exporter": "python",
   "pygments_lexer": "ipython3",
   "version": "3.6.15"
  }
 },
 "nbformat": 4,
 "nbformat_minor": 2
}
